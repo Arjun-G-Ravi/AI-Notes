{
 "cells": [
  {
   "cell_type": "code",
   "execution_count": 13,
   "metadata": {},
   "outputs": [],
   "source": [
    "import numpy as np"
   ]
  },
  {
   "cell_type": "code",
   "execution_count": 14,
   "metadata": {},
   "outputs": [],
   "source": [
    "class LogisticRegression:\n",
    "    def __init__(self, num_iter=10000, lr=0.01):\n",
    "        self.num_iter = num_iter\n",
    "        self.lr = lr\n",
    "        self.weight = None\n",
    "        self.bias = None\n",
    "\n",
    "    def fit(self, X, y):\n",
    "        m, n = X.shape\n",
    "        self.weight = np.zeros(n)\n",
    "        self.bias = 0       \n",
    "\n",
    "        for epoch in range(self.num_iter):\n",
    "            y_pred = self.predict(X)\n",
    "            dJ_dw = (1/m) * np.dot(X.T,y_pred-y)\n",
    "            dJ_db = (1/m) * np.sum(y_pred-y)\n",
    "\n",
    "            self.weight -= self.lr * dJ_dw\n",
    "            self.bias -= self.lr * dJ_db\n",
    "\n",
    "    def predict(self, X):\n",
    "        linear_model = np.dot(X, self.weight) + self.bias\n",
    "        y_pred = 1/(1 + np.exp(- linear_model))\n",
    "        out = np.array([1 if i>0.5 else 0 for i in y_pred])\n",
    "        return out # m,1"
   ]
  },
  {
   "cell_type": "code",
   "execution_count": 15,
   "metadata": {},
   "outputs": [],
   "source": [
    "from sklearn.datasets import load_breast_cancer\n",
    "from sklearn.model_selection import train_test_split"
   ]
  },
  {
   "cell_type": "code",
   "execution_count": 16,
   "metadata": {},
   "outputs": [],
   "source": [
    "ds = load_breast_cancer()\n",
    "X_train, X_test, y_train, y_test = train_test_split(ds['data'], ds['target'], random_state=1)"
   ]
  },
  {
   "cell_type": "code",
   "execution_count": 17,
   "metadata": {},
   "outputs": [
    {
     "name": "stderr",
     "output_type": "stream",
     "text": [
      "/tmp/ipykernel_13042/396694231.py:23: RuntimeWarning: overflow encountered in exp\n",
      "  y_pred = 1/(1 + np.exp(- linear_model))\n"
     ]
    }
   ],
   "source": [
    "model = LogisticRegression()\n",
    "model.fit(X_train,y_train)"
   ]
  },
  {
   "cell_type": "code",
   "execution_count": 18,
   "metadata": {},
   "outputs": [
    {
     "name": "stderr",
     "output_type": "stream",
     "text": [
      "/tmp/ipykernel_13042/396694231.py:23: RuntimeWarning: overflow encountered in exp\n",
      "  y_pred = 1/(1 + np.exp(- linear_model))\n"
     ]
    },
    {
     "data": {
      "text/plain": [
       "83.91608391608392"
      ]
     },
     "execution_count": 18,
     "metadata": {},
     "output_type": "execute_result"
    }
   ],
   "source": [
    "np.sum(model.predict(X_test) == y_test)*100/len(y_test)"
   ]
  },
  {
   "cell_type": "code",
   "execution_count": null,
   "metadata": {},
   "outputs": [],
   "source": []
  }
 ],
 "metadata": {
  "kernelspec": {
   "display_name": "NewPytorchEnv",
   "language": "python",
   "name": "python3"
  },
  "language_info": {
   "codemirror_mode": {
    "name": "ipython",
    "version": 3
   },
   "file_extension": ".py",
   "mimetype": "text/x-python",
   "name": "python",
   "nbconvert_exporter": "python",
   "pygments_lexer": "ipython3",
   "version": "3.10.12"
  },
  "orig_nbformat": 4
 },
 "nbformat": 4,
 "nbformat_minor": 2
}
