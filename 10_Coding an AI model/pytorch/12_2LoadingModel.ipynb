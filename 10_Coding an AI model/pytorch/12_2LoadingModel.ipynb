{
 "cells": [
  {
   "cell_type": "code",
   "execution_count": 6,
   "metadata": {},
   "outputs": [],
   "source": [
    "import torch\n",
    "import torch.nn as nn"
   ]
  },
  {
   "cell_type": "code",
   "execution_count": 7,
   "metadata": {},
   "outputs": [],
   "source": [
    "X_test = torch.tensor([[5]], dtype=torch.float32)"
   ]
  },
  {
   "attachments": {},
   "cell_type": "markdown",
   "metadata": {},
   "source": [
    "Since the model is not saved, we have to code it"
   ]
  },
  {
   "cell_type": "code",
   "execution_count": 8,
   "metadata": {},
   "outputs": [],
   "source": [
    "class NN(nn.Module):\n",
    "    def __init__(self, inp, out):\n",
    "        super(NN, self).__init__()\n",
    "        self.lay1 = nn.Linear(inp, out)\n",
    "    def forward(self, x):\n",
    "        out = self.lay1(x)\n",
    "        return out"
   ]
  },
  {
   "attachments": {},
   "cell_type": "markdown",
   "metadata": {},
   "source": [
    "Loading method #1"
   ]
  },
  {
   "cell_type": "code",
   "execution_count": 29,
   "metadata": {},
   "outputs": [
    {
     "name": "stdout",
     "output_type": "stream",
     "text": [
      "24.9999942779541\n",
      "Parameter containing:\n",
      "tensor([[5.0000]], requires_grad=True)\n",
      "Parameter containing:\n",
      "tensor([2.6092e-06], requires_grad=True)\n"
     ]
    }
   ],
   "source": [
    "file1 = 'SavedWithoutState.pt'\n",
    "model1 = torch.load(file1)\n",
    "model1.eval()\n",
    "\n",
    "print(model1(X_test).item())\n",
    "weights, bias =model1.parameters()\n",
    "print(weights)\n",
    "print(bias)"
   ]
  },
  {
   "attachments": {},
   "cell_type": "markdown",
   "metadata": {},
   "source": [
    "Loading method #2"
   ]
  },
  {
   "cell_type": "code",
   "execution_count": 10,
   "metadata": {},
   "outputs": [
    {
     "name": "stdout",
     "output_type": "stream",
     "text": [
      "24.9999942779541\n",
      "OrderedDict([('lay1.weight', tensor([[5.0000]])), ('lay1.bias', tensor([2.6092e-06]))])\n"
     ]
    }
   ],
   "source": [
    "file2 = 'SavedWithState.pt'\n",
    "model2 = NN(1, 1)\n",
    "model2.load_state_dict(torch.load(file2))\n",
    "model2.eval()\n",
    "\n",
    "print(model2(X_test).item())\n",
    "print(model2.state_dict())"
   ]
  },
  {
   "cell_type": "code",
   "execution_count": null,
   "metadata": {},
   "outputs": [],
   "source": []
  }
 ],
 "metadata": {
  "kernelspec": {
   "display_name": "Python 3",
   "language": "python",
   "name": "python3"
  },
  "language_info": {
   "codemirror_mode": {
    "name": "ipython",
    "version": 3
   },
   "file_extension": ".py",
   "mimetype": "text/x-python",
   "name": "python",
   "nbconvert_exporter": "python",
   "pygments_lexer": "ipython3",
   "version": "3.10.6"
  },
  "orig_nbformat": 4
 },
 "nbformat": 4,
 "nbformat_minor": 2
}
