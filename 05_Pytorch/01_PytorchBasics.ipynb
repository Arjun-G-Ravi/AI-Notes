{
 "cells": [
  {
   "attachments": {},
   "cell_type": "markdown",
   "metadata": {},
   "source": [
    "# Prerequisites"
   ]
  },
  {
   "cell_type": "code",
   "execution_count": 1,
   "metadata": {
    "notebookRunGroups": {
     "groupValue": ""
    }
   },
   "outputs": [],
   "source": [
    "import torch\n",
    "import numpy as np"
   ]
  },
  {
   "cell_type": "code",
   "execution_count": 2,
   "metadata": {},
   "outputs": [
    {
     "data": {
      "text/plain": [
       "'2.1.0+cu121'"
      ]
     },
     "execution_count": 2,
     "metadata": {},
     "output_type": "execute_result"
    }
   ],
   "source": [
    "torch.__version__"
   ]
  },
  {
   "cell_type": "code",
   "execution_count": 3,
   "metadata": {},
   "outputs": [
    {
     "data": {
      "text/plain": [
       "True"
      ]
     },
     "execution_count": 3,
     "metadata": {},
     "output_type": "execute_result"
    }
   ],
   "source": [
    "torch.cuda.is_available()  # Is GPU available"
   ]
  },
  {
   "attachments": {},
   "cell_type": "markdown",
   "metadata": {},
   "source": [
    "# Initialising and Conversion"
   ]
  },
  {
   "cell_type": "markdown",
   "metadata": {},
   "source": [
    "Initialisation"
   ]
  },
  {
   "cell_type": "code",
   "execution_count": 4,
   "metadata": {},
   "outputs": [
    {
     "name": "stdout",
     "output_type": "stream",
     "text": [
      "tensor([1, 2, 3])\n",
      "torch.Size([3])\n"
     ]
    }
   ],
   "source": [
    "t = torch.tensor([1,2,3])\n",
    "print(t)\n",
    "print(t.shape)"
   ]
  },
  {
   "cell_type": "code",
   "execution_count": 5,
   "metadata": {},
   "outputs": [
    {
     "name": "stdout",
     "output_type": "stream",
     "text": [
      "tensor([1, 2, 3], device='cuda:0')\n"
     ]
    },
    {
     "data": {
      "text/plain": [
       "device(type='cuda')"
      ]
     },
     "execution_count": 5,
     "metadata": {},
     "output_type": "execute_result"
    }
   ],
   "source": [
    "# Send to GPU\n",
    "t = t.to('cuda')\n",
    "print(t)\n",
    "\n",
    "# Choose GPU, if available\n",
    "device = torch.device('cuda') if torch.cuda.is_available() else torch.device('cpu')\n",
    "device"
   ]
  },
  {
   "cell_type": "markdown",
   "metadata": {},
   "source": [
    "## Numpy array vs Pytorch tensor"
   ]
  },
  {
   "cell_type": "markdown",
   "metadata": {},
   "source": [
    "If you want to share memory and avoid copying data whenever possible,\n",
    "use torch.from_numpy. If you want more control over memory sharing or \n",
    "prefer to create a new tensor, use torch.as_tensor."
   ]
  },
  {
   "cell_type": "code",
   "execution_count": 6,
   "metadata": {},
   "outputs": [
    {
     "name": "stdout",
     "output_type": "stream",
     "text": [
      "tensor([1, 2, 3, 4]) tensor([1, 2, 3, 4])\n",
      "[1 2 3 4] <class 'numpy.ndarray'>\n"
     ]
    }
   ],
   "source": [
    "data = np.array([1,2,3,4])\n",
    "t1 = torch.as_tensor(data)\n",
    "t2 = torch.from_numpy(data)\n",
    "print(t1,t2)\n",
    "\n",
    "t1 = t1.numpy()\n",
    "print(t1, type(t1))"
   ]
  },
  {
   "cell_type": "markdown",
   "metadata": {},
   "source": [
    "Basic Functions"
   ]
  },
  {
   "cell_type": "code",
   "execution_count": 7,
   "metadata": {},
   "outputs": [
    {
     "name": "stdout",
     "output_type": "stream",
     "text": [
      "tensor([[1., 0., 0., 0., 0.],\n",
      "        [0., 1., 0., 0., 0.],\n",
      "        [0., 0., 1., 0., 0.],\n",
      "        [0., 0., 0., 1., 0.],\n",
      "        [0., 0., 0., 0., 1.]])\n",
      "tensor([[1., 1., 1., 1.],\n",
      "        [1., 1., 1., 1.],\n",
      "        [1., 1., 1., 1.]])\n",
      "tensor([[[0.4604, 0.2404, 0.9418],\n",
      "         [0.1158, 0.3667, 0.4986]]])\n",
      "tensor([[[-0.3269, -2.7883,  1.3355],\n",
      "         [ 1.2572, -0.0105,  0.9804]]])\n"
     ]
    }
   ],
   "source": [
    "t = torch.eye(5)\n",
    "print(t)\n",
    "t = torch.ones([3,4])\n",
    "print(t)\n",
    "t = torch.rand([1,2,3])  # Range [0,1)\n",
    "print(t)\n",
    "t = torch.randn([1,2,3])  # These numbers have a  mean of 0 and a std deviation of 1.\n",
    "print(t)"
   ]
  },
  {
   "cell_type": "code",
   "execution_count": 8,
   "metadata": {},
   "outputs": [
    {
     "name": "stdout",
     "output_type": "stream",
     "text": [
      "tensor([4, 5, 6], dtype=torch.int8)\n",
      "tensor(5, dtype=torch.int8)\n"
     ]
    }
   ],
   "source": [
    "'''\n",
    "RANK = 2 (Number of axes[or dimensions]) and (2 indexes are needed to denote an element)\n",
    "LENGTH OF AXES = 3\n",
    "SHAPE OF TENSOR = 3 X 3  # Length of shape = rank\n",
    "'''\n",
    "t = torch.tensor([[1,2,3],\n",
    "                   [4,5,6],\n",
    "                   [7,8,9]], dtype=torch.int8)\n",
    "print(t[1])\n",
    "print(t[1][1])"
   ]
  },
  {
   "cell_type": "markdown",
   "metadata": {},
   "source": [
    "# Basic Math operations"
   ]
  },
  {
   "cell_type": "code",
   "execution_count": 9,
   "metadata": {},
   "outputs": [
    {
     "name": "stdout",
     "output_type": "stream",
     "text": [
      "tensor([[1, 2, 3],\n",
      "        [4, 5, 6],\n",
      "        [7, 8, 9]])\n",
      "tensor([[10, 20, 30],\n",
      "        [40, 50, 60],\n",
      "        [70, 80, 90]])\n",
      "tensor([[11, 22, 33],\n",
      "        [44, 55, 66],\n",
      "        [77, 88, 99]])\n",
      "tensor([[33, 34, 35],\n",
      "        [36, 37, 38],\n",
      "        [39, 40, 41]])\n",
      "tensor([[ -9, -18, -27],\n",
      "        [-36, -45, -54],\n",
      "        [-63, -72, -81]])\n",
      "tensor([[ 10,  40,  90],\n",
      "        [160, 250, 360],\n",
      "        [490, 640, 810]])\n",
      "tensor([[ 300,  360,  420],\n",
      "        [ 660,  810,  960],\n",
      "        [1020, 1260, 1500]])\n",
      "tensor([[0.1000, 0.1000, 0.1000],\n",
      "        [0.1000, 0.1000, 0.1000],\n",
      "        [0.1000, 0.1000, 0.1000]])\n",
      "tensor(5.)\n",
      "27.386127471923828\n"
     ]
    }
   ],
   "source": [
    "t1 = torch.as_tensor(np.array([[1,2,3],\n",
    "                              [4,5,6],\n",
    "                              [7,8,9]]))\n",
    "t2 = torch.as_tensor(np.array([10,20,30,40,50,60,70,80,90])).reshape(3,3)  # Reshape\n",
    "print(t1)\n",
    "print(t2)  \n",
    "\n",
    "print(t1+t2)  # Add\n",
    "print(t1+32)  # Element wise Addition (BROADCASTING)\n",
    "print(t1-t2)  # Sub\n",
    "print(t1*t2)  # Element wise multiplication <- Note !!!\n",
    "print(t1@t2)  # MatMul\n",
    "print(t1/t2)  # Element wise division\n",
    "print(t1.float().mean())  # Conversion, Mean\n",
    "print(t2.float().std().item())  # Conversion, Std deviation, item()"
   ]
  },
  {
   "cell_type": "markdown",
   "metadata": {},
   "source": [
    "In-place operation"
   ]
  },
  {
   "cell_type": "code",
   "execution_count": 10,
   "metadata": {},
   "outputs": [
    {
     "name": "stdout",
     "output_type": "stream",
     "text": [
      "tensor([[11, 22, 33],\n",
      "        [44, 55, 66],\n",
      "        [77, 88, 99]])\n",
      "tensor([[11, 22, 33],\n",
      "        [44, 55, 66],\n",
      "        [77, 88, 99]])\n",
      "tensor([[10, 20, 30],\n",
      "        [40, 50, 60],\n",
      "        [70, 80, 90]])\n"
     ]
    }
   ],
   "source": [
    "print(t1.add_(t2))  # _ indicates that it is an in-place funciton \n",
    "print(t1)\n",
    "print(t2)  "
   ]
  },
  {
   "cell_type": "code",
   "execution_count": 11,
   "metadata": {},
   "outputs": [
    {
     "data": {
      "text/plain": [
       "tensor([[nan, 1., nan],\n",
       "        [0., nan, 0.],\n",
       "        [nan, nan, nan]])"
      ]
     },
     "execution_count": 11,
     "metadata": {},
     "output_type": "execute_result"
    }
   ],
   "source": [
    "t1 = torch.rand(3,3)\n",
    "t1 = torch.floor(t1*10)\n",
    "\n",
    "t2 = torch.rand(3,3)\n",
    "t2 = torch.floor(t2*10)\n",
    "t = torch.sqrt(t1-t2)\n",
    "t  # nan is because of -ve numbers"
   ]
  },
  {
   "cell_type": "markdown",
   "metadata": {},
   "source": [
    "# Gradient"
   ]
  },
  {
   "cell_type": "code",
   "execution_count": 12,
   "metadata": {},
   "outputs": [
    {
     "name": "stdout",
     "output_type": "stream",
     "text": [
      "tensor(22.5000, grad_fn=<MeanBackward0>)\n",
      "tensor([-0.2500, -0.2500, -0.2500, -0.2500])\n",
      "tensor([0.2500, 0.2500, 0.2500, 0.2500])\n"
     ]
    }
   ],
   "source": [
    "x = torch.tensor([1,2,3,4], dtype=torch.float32, requires_grad=True)\n",
    "y = torch.tensor([10,20,30,40], dtype=torch.float32, requires_grad=True)\n",
    "# print(x.shape)\n",
    "# y = x+2\n",
    "z = (y-x).mean()\n",
    "print(z)\n",
    "\n",
    "z.backward() # This looks at all the components of z, and takes the gradient of z wrt those\n",
    "# components and stores them in component.grad\n",
    "print(x.grad)\n",
    "print(y.grad)\n"
   ]
  },
  {
   "cell_type": "code",
   "execution_count": 13,
   "metadata": {},
   "outputs": [
    {
     "name": "stderr",
     "output_type": "stream",
     "text": [
      "/tmp/ipykernel_9571/3617341035.py:2: UserWarning: To copy construct from a tensor, it is recommended to use sourceTensor.clone().detach() or sourceTensor.clone().detach().requires_grad_(True), rather than torch.tensor(sourceTensor).\n",
      "  y = torch.tensor(2*x,requires_grad=True)\n"
     ]
    },
    {
     "data": {
      "text/plain": [
       "tensor([3., 3., 3.])"
      ]
     },
     "execution_count": 13,
     "metadata": {},
     "output_type": "execute_result"
    }
   ],
   "source": [
    "x = torch.ones(3, requires_grad=True)\n",
    "y = torch.tensor(2*x,requires_grad=True)\n",
    "\n",
    "z = 3*y\n",
    "z.backward(torch.ones_like(z)) \n",
    "y.grad"
   ]
  },
  {
   "cell_type": "markdown",
   "metadata": {},
   "source": [
    "Sample model working"
   ]
  },
  {
   "cell_type": "code",
   "execution_count": 14,
   "metadata": {},
   "outputs": [
    {
     "name": "stdout",
     "output_type": "stream",
     "text": [
      "Weight:  tensor([-0.8109,  1.4663,  1.7734, -0.0498, -1.6963], requires_grad=True)\n",
      "tensor([3., 3., 3., 3., 3.])\n",
      "tensor([6., 6., 6., 6., 6.])\n",
      "tensor([9., 9., 9., 9., 9.])\n",
      "tensor([12., 12., 12., 12., 12.])\n",
      "tensor([15., 15., 15., 15., 15.])\n",
      "tensor([18., 18., 18., 18., 18.])\n",
      "tensor([21., 21., 21., 21., 21.])\n",
      "tensor([24., 24., 24., 24., 24.])\n",
      "tensor([27., 27., 27., 27., 27.])\n",
      "tensor([30., 30., 30., 30., 30.])\n"
     ]
    }
   ],
   "source": [
    "weight = torch.randn(5, requires_grad=True)\n",
    "print('Weight: ',weight)\n",
    "\n",
    "def model(input):\n",
    "    output = 3*input    \n",
    "    return output\n",
    "\n",
    "for epoch in range(10):\n",
    "    model_output = model(weight)\n",
    "    model_output.backward(torch.ones_like(model_output))    \n",
    "    print(weight.grad)\n",
    "    # weight.grad.zero_()  # if you want to empty the gradient"
   ]
  },
  {
   "cell_type": "code",
   "execution_count": 15,
   "metadata": {},
   "outputs": [
    {
     "data": {
      "text/plain": [
       "tensor([1., 1., 1., 1., 1.])"
      ]
     },
     "execution_count": 15,
     "metadata": {},
     "output_type": "execute_result"
    }
   ],
   "source": [
    "torch.ones_like(model_output) # in the shape of model output"
   ]
  },
  {
   "cell_type": "markdown",
   "metadata": {},
   "source": [
    "Forward and Backward propogation"
   ]
  },
  {
   "cell_type": "code",
   "execution_count": 16,
   "metadata": {},
   "outputs": [
    {
     "name": "stdout",
     "output_type": "stream",
     "text": [
      "tensor(1., grad_fn=<PowBackward0>)\n",
      "tensor(-2.)\n"
     ]
    }
   ],
   "source": [
    "x = torch.tensor(1.)\n",
    "w = torch.tensor(1.,requires_grad=True)\n",
    "y = torch.tensor(2.)\n",
    "def model(x,w):\n",
    "    return x*w\n",
    "\n",
    "# forward pass\n",
    "y_hat = model(x,w)\n",
    "L = (y_hat - y)**2\n",
    "print(L)  \n",
    "\n",
    "# backward pass\n",
    "L.backward()\n",
    "print(w.grad)"
   ]
  }
 ],
 "metadata": {
  "kernelspec": {
   "display_name": "Python 3",
   "language": "python",
   "name": "python3"
  },
  "language_info": {
   "codemirror_mode": {
    "name": "ipython",
    "version": 3
   },
   "file_extension": ".py",
   "mimetype": "text/x-python",
   "name": "python",
   "nbconvert_exporter": "python",
   "pygments_lexer": "ipython3",
   "version": "3.10.12"
  },
  "orig_nbformat": 4,
  "vscode": {
   "interpreter": {
    "hash": "6695315e432dad9365e64f39285f0493c8af918d3cb74b9bae4e100548ae2c82"
   }
  }
 },
 "nbformat": 4,
 "nbformat_minor": 2
}
