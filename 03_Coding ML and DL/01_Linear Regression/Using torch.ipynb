{
 "cells": [
  {
   "cell_type": "code",
   "execution_count": 1,
   "metadata": {},
   "outputs": [],
   "source": [
    "import torch\n",
    "import matplotlib.pyplot as plt\n",
    "from sklearn.datasets import make_regression"
   ]
  },
  {
   "cell_type": "code",
   "execution_count": 2,
   "metadata": {},
   "outputs": [
    {
     "name": "stdout",
     "output_type": "stream",
     "text": [
      "torch.Size([100, 3])\n",
      "torch.Size([100, 1])\n"
     ]
    }
   ],
   "source": [
    "X,y = make_regression(100,3, noise=7)\n",
    "X = torch.from_numpy(X).float()\n",
    "y = torch.from_numpy(y).float().view(100,1)\n",
    "print(X.shape)\n",
    "print(y.shape)"
   ]
  },
  {
   "cell_type": "code",
   "execution_count": 3,
   "metadata": {},
   "outputs": [
    {
     "data": {
      "image/png": "[encoded data removed]",
      "text/plain": [
       "<Figure size 640x480 with 3 Axes>"
      ]
     },
     "metadata": {},
     "output_type": "display_data"
    }
   ],
   "source": [
    "plt.subplot(3,3,1)\n",
    "plt.scatter(X[:,0],y, c='r')\n",
    "plt.subplot(3,3,2)\n",
    "plt.scatter(X[:,1],y, c='g')\n",
    "plt.subplot(3,3,3)\n",
    "plt.scatter(X[:,2],y)\n",
    "plt.show()"
   ]
  },
  {
   "cell_type": "code",
   "execution_count": 4,
   "metadata": {},
   "outputs": [],
   "source": [
    "W = torch.randn(3,1, requires_grad=True)\n",
    "b = torch.zeros(1,1, requires_grad=True)"
   ]
  },
  {
   "cell_type": "code",
   "execution_count": 5,
   "metadata": {},
   "outputs": [
    {
     "data": {
      "text/plain": [
       "torch.Size([1, 1])"
      ]
     },
     "execution_count": 5,
     "metadata": {},
     "output_type": "execute_result"
    }
   ],
   "source": [
    "W.shape\n",
    "b.shape"
   ]
  },
  {
   "cell_type": "code",
   "execution_count": 6,
   "metadata": {},
   "outputs": [
    {
     "data": {
      "text/plain": [
       "17646.7421875"
      ]
     },
     "execution_count": 6,
     "metadata": {},
     "output_type": "execute_result"
    }
   ],
   "source": [
    "y_pred = X@W+b\n",
    "loss = ((y_pred-y)**2).mean()\n",
    "loss.item()"
   ]
  },
  {
   "cell_type": "code",
   "execution_count": 7,
   "metadata": {},
   "outputs": [],
   "source": [
    "W.retain_grad()"
   ]
  },
  {
   "cell_type": "code",
   "execution_count": 8,
   "metadata": {},
   "outputs": [
    {
     "name": "stdout",
     "output_type": "stream",
     "text": [
      "17646.7421875\n",
      "135.93121337890625\n",
      "50.807701110839844\n",
      "50.12881851196289\n",
      "50.118961334228516\n",
      "50.118751525878906\n",
      "50.1187858581543\n",
      "50.118778228759766\n",
      "50.118770599365234\n",
      "50.1187744140625\n"
     ]
    }
   ],
   "source": [
    "# Training\n",
    "\n",
    "for i in range(100):\n",
    "    y_pred = X@W+b\n",
    "    loss = ((y_pred-y)**2).mean()\n",
    "    loss.backward()\n",
    "    W = W - .1*W.grad\n",
    "    b = b - .1*b.grad\n",
    "    b.grad = None\n",
    "    W.grad = None\n",
    "    W.retain_grad()\n",
    "    b.retain_grad()\n",
    "    if not i%10: print(loss.item())"
   ]
  }
 ],
 "metadata": {
  "kernelspec": {
   "display_name": "AI_ENV",
   "language": "python",
   "name": "python3"
  },
  "language_info": {
   "codemirror_mode": {
    "name": "ipython",
    "version": 3
   },
   "file_extension": ".py",
   "mimetype": "text/x-python",
   "name": "python",
   "nbconvert_exporter": "python",
   "pygments_lexer": "ipython3",
   "version": "3.10.12"
  }
 },
 "nbformat": 4,
 "nbformat_minor": 2
}
