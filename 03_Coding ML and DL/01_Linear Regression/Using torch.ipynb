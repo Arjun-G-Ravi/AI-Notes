{
 "cells": [
  {
   "cell_type": "code",
   "execution_count": 1,
   "metadata": {},
   "outputs": [],
   "source": [
    "import torch\n",
    "import matplotlib.pyplot as plt\n",
    "from sklearn.datasets import make_regression"
   ]
  },
  {
   "cell_type": "code",
   "execution_count": 2,
   "metadata": {},
   "outputs": [
    {
     "name": "stdout",
     "output_type": "stream",
     "text": [
      "torch.Size([100, 3])\n",
      "torch.Size([100, 1])\n"
     ]
    }
   ],
   "source": [
    "X,y = make_regression(100,3, noise=7)\n",
    "X = torch.from_numpy(X).float()\n",
    "y = torch.from_numpy(y).float().view(100,1)\n",
    "print(X.shape)\n",
    "print(y.shape)"
   ]
  },
  {
   "cell_type": "code",
   "execution_count": 3,
   "metadata": {},
   "outputs": [
    {
     "data": {
      "image/png": "[encoded data removed]",
      "text/plain": [
       "<Figure size 640x480 with 3 Axes>"
      ]
     },
     "metadata": {},
     "output_type": "display_data"
    }
   ],
   "source": [
    "plt.subplot(3,3,1)\n",
    "plt.scatter(X[:,0],y, c='r')\n",
    "plt.subplot(3,3,2)\n",
    "plt.scatter(X[:,1],y, c='g')\n",
    "plt.subplot(3,3,3)\n",
    "plt.scatter(X[:,2],y)\n",
    "plt.show()"
   ]
  },
  {
   "cell_type": "code",
   "execution_count": 4,
   "metadata": {},
   "outputs": [],
   "source": [
    "W = torch.randn(3,1, requires_grad=True)\n",
    "b = torch.zeros(1,1, requires_grad=True)"
   ]
  },
  {
   "cell_type": "code",
   "execution_count": 5,
   "metadata": {},
   "outputs": [
    {
     "data": {
      "text/plain": [
       "torch.Size([1, 1])"
      ]
     },
     "execution_count": 5,
     "metadata": {},
     "output_type": "execute_result"
    }
   ],
   "source": [
    "W.shape\n",
    "b.shape"
   ]
  },
  {
   "cell_type": "code",
   "execution_count": 6,
   "metadata": {},
   "outputs": [
    {
     "data": {
      "text/plain": [
       "tensor(11743.9639, grad_fn=<MeanBackward0>)"
      ]
     },
     "execution_count": 6,
     "metadata": {},
     "output_type": "execute_result"
    }
   ],
   "source": [
    "y_pred = X@W+b\n",
    "loss = ((y_pred-y)**2).mean()\n",
    "loss"
   ]
  },
  {
   "cell_type": "code",
   "execution_count": 7,
   "metadata": {},
   "outputs": [
    {
     "name": "stdout",
     "output_type": "stream",
     "text": [
      "11743.9638671875\n",
      "tensor([[-157.0142],\n",
      "        [ -73.5523],\n",
      "        [-135.9880]])\n"
     ]
    },
    {
     "name": "stderr",
     "output_type": "stream",
     "text": [
      "/tmp/ipykernel_12014/3099417454.py:11: UserWarning: The .grad attribute of a Tensor that is not a leaf Tensor is being accessed. Its .grad attribute won't be populated during autograd.backward(). If you indeed want the .grad field to be populated for a non-leaf Tensor, use .retain_grad() on the non-leaf Tensor. If you access the non-leaf Tensor by mistake, make sure you access the leaf Tensor instead. See github.com/pytorch/pytorch/pull/30531 for more informations. (Triggered internally at aten/src/ATen/core/TensorBody.h:489.)\n",
      "  W.grad.zero_()\n"
     ]
    },
    {
     "ename": "AttributeError",
     "evalue": "'NoneType' object has no attribute 'zero_'",
     "output_type": "error",
     "traceback": [
      "\u001b[0;31m---------------------------------------------------------------------------\u001b[0m",
      "\u001b[0;31mAttributeError\u001b[0m                            Traceback (most recent call last)",
      "Cell \u001b[0;32mIn[7], line 11\u001b[0m\n\u001b[1;32m      9\u001b[0m \u001b[38;5;66;03m# with torch.no_grad():\u001b[39;00m\n\u001b[1;32m     10\u001b[0m W \u001b[38;5;241m=\u001b[39m W \u001b[38;5;241m-\u001b[39m \u001b[38;5;241m0.01\u001b[39m\u001b[38;5;241m*\u001b[39mW\u001b[38;5;241m.\u001b[39mgrad\n\u001b[0;32m---> 11\u001b[0m \u001b[43mW\u001b[49m\u001b[38;5;241;43m.\u001b[39;49m\u001b[43mgrad\u001b[49m\u001b[38;5;241;43m.\u001b[39;49m\u001b[43mzero_\u001b[49m()\n\u001b[1;32m     12\u001b[0m \u001b[38;5;28mprint\u001b[39m(W\u001b[38;5;241m.\u001b[39mgrad)\n\u001b[1;32m     13\u001b[0m \u001b[38;5;28mprint\u001b[39m(b\u001b[38;5;241m.\u001b[39mgrad)\n",
      "\u001b[0;31mAttributeError\u001b[0m: 'NoneType' object has no attribute 'zero_'"
     ]
    }
   ],
   "source": [
    "# Training\n",
    "y_pred = X@W+b\n",
    "loss = ((y_pred-y)**2).mean()\n",
    "print(loss.item())\n",
    "W.grad = None\n",
    "b.grad = None\n",
    "loss.backward() \n",
    "print(W.grad)\n",
    "# with torch.no_grad():\n",
    "W = W - 0.01*W.grad\n",
    "W.grad.zero_()\n",
    "print(W.grad)\n",
    "print(b.grad)\n"
   ]
  },
  {
   "cell_type": "code",
   "execution_count": null,
   "metadata": {},
   "outputs": [],
   "source": [
    "W.shape\n",
    "# W.grad.shape"
   ]
  },
  {
   "cell_type": "code",
   "execution_count": null,
   "metadata": {},
   "outputs": [],
   "source": [
    "import torch\n",
    "\n",
    "# Assuming W and b are defined and require gradients\n",
    "# Also, X and y are assumed to be your input data and target values\n",
    "\n",
    "# # Initialize W and b with requires_grad=True\n",
    "# W = torch.randn((input_size, output_size), requires_grad=True)\n",
    "# b = torch.randn((output_size,), requires_grad=True)\n",
    "\n",
    "# Forward pass\n",
    "y_pred = X @ W + b\n",
    "loss = ((y_pred - y)**2).mean()\n",
    "print(loss.item())\n",
    "\n",
    "# Backward pass\n",
    "loss.backward()\n",
    "\n",
    "# Update weights and reset gradients\n",
    "with torch.no_grad():\n",
    "    W -= 0.01 * W.grad\n",
    "    b -= 0.01 * b.grad\n",
    "\n",
    "    W.grad.zero_()\n",
    "    b.grad.zero_()\n",
    "\n",
    "print(W.grad)\n",
    "print(b.grad)\n"
   ]
  },
  {
   "cell_type": "code",
   "execution_count": 8,
   "metadata": {},
   "outputs": [
    {
     "name": "stdout",
     "output_type": "stream",
     "text": [
      "11263.712890625\n"
     ]
    },
    {
     "name": "stderr",
     "output_type": "stream",
     "text": [
      "/tmp/ipykernel_12014/2913568459.py:25: UserWarning: The .grad attribute of a Tensor that is not a leaf Tensor is being accessed. Its .grad attribute won't be populated during autograd.backward(). If you indeed want the .grad field to be populated for a non-leaf Tensor, use .retain_grad() on the non-leaf Tensor. If you access the non-leaf Tensor by mistake, make sure you access the leaf Tensor instead. See github.com/pytorch/pytorch/pull/30531 for more informations. (Triggered internally at aten/src/ATen/core/TensorBody.h:489.)\n",
      "  W -= 0.01 * W.grad\n"
     ]
    },
    {
     "ename": "TypeError",
     "evalue": "unsupported operand type(s) for *: 'float' and 'NoneType'",
     "output_type": "error",
     "traceback": [
      "\u001b[0;31m---------------------------------------------------------------------------\u001b[0m",
      "\u001b[0;31mTypeError\u001b[0m                                 Traceback (most recent call last)",
      "Cell \u001b[0;32mIn[8], line 25\u001b[0m\n\u001b[1;32m     23\u001b[0m \u001b[38;5;66;03m# Update weights and reset gradients\u001b[39;00m\n\u001b[1;32m     24\u001b[0m \u001b[38;5;28;01mwith\u001b[39;00m torch\u001b[38;5;241m.\u001b[39mno_grad():\n\u001b[0;32m---> 25\u001b[0m     W \u001b[38;5;241m-\u001b[39m\u001b[38;5;241m=\u001b[39m \u001b[38;5;241;43m0.01\u001b[39;49m\u001b[43m \u001b[49m\u001b[38;5;241;43m*\u001b[39;49m\u001b[43m \u001b[49m\u001b[43mW\u001b[49m\u001b[38;5;241;43m.\u001b[39;49m\u001b[43mgrad\u001b[49m\n\u001b[1;32m     26\u001b[0m     b \u001b[38;5;241m-\u001b[39m\u001b[38;5;241m=\u001b[39m \u001b[38;5;241m0.01\u001b[39m \u001b[38;5;241m*\u001b[39m b\u001b[38;5;241m.\u001b[39mgrad\n\u001b[1;32m     28\u001b[0m     W\u001b[38;5;241m.\u001b[39mgrad\u001b[38;5;241m.\u001b[39mzero_()\n",
      "\u001b[0;31mTypeError\u001b[0m: unsupported operand type(s) for *: 'float' and 'NoneType'"
     ]
    }
   ],
   "source": [
    "import torch\n",
    "\n",
    "# # Assuming input_size, output_size, X, and y are defined\n",
    "# input_size = 5\n",
    "# output_size = 1\n",
    "\n",
    "# # Initialize W and b with requires_grad=True\n",
    "# W = torch.randn((input_size, output_size), requires_grad=True)\n",
    "# b = torch.randn((output_size,), requires_grad=True)\n",
    "\n",
    "# # Dummy data\n",
    "# X = torch.randn((batch_size, input_size))\n",
    "# y = torch.randn((batch_size, output_size))\n",
    "\n",
    "# Forward pass\n",
    "y_pred = X @ W + b\n",
    "loss = ((y_pred - y)**2).mean()\n",
    "print(loss.item())\n",
    "\n",
    "# Backward pass\n",
    "loss.backward()\n",
    "\n",
    "# Update weights and reset gradients\n",
    "with torch.no_grad():\n",
    "    W -= 0.01 * W.grad\n",
    "    b -= 0.01 * b.grad\n",
    "\n",
    "    W.grad.zero_()\n",
    "    b.grad.zero_()\n",
    "\n",
    "print(W.grad)\n",
    "print(b.grad)\n"
   ]
  }
 ],
 "metadata": {
  "kernelspec": {
   "display_name": "AI_ENV",
   "language": "python",
   "name": "python3"
  },
  "language_info": {
   "codemirror_mode": {
    "name": "ipython",
    "version": 3
   },
   "file_extension": ".py",
   "mimetype": "text/x-python",
   "name": "python",
   "nbconvert_exporter": "python",
   "pygments_lexer": "ipython3",
   "version": "3.10.12"
  }
 },
 "nbformat": 4,
 "nbformat_minor": 2
}
