{
 "cells": [
  {
   "cell_type": "code",
   "execution_count": null,
   "metadata": {},
   "outputs": [],
   "source": [
    "import pandas as pd\n",
    "import numpy as np\n",
    "from sklearn import model_selection\n",
    "from sklearn import ensemble"
   ]
  },
  {
   "cell_type": "code",
   "execution_count": null,
   "metadata": {},
   "outputs": [],
   "source": [
    "df = pd.read_csv('./Cellphone.csv')"
   ]
  },
  {
   "cell_type": "code",
   "execution_count": null,
   "metadata": {},
   "outputs": [],
   "source": [
    "X = df.drop('Price', axis=1).values\n",
    "y = df['Price'].values\n",
    "X.shape, y.shape"
   ]
  },
  {
   "cell_type": "code",
   "execution_count": null,
   "metadata": {},
   "outputs": [],
   "source": [
    "model = ensemble.RandomForestClassifier(n_jobs=-1)"
   ]
  },
  {
   "cell_type": "markdown",
   "metadata": {},
   "source": [
    "# Grid Search\n",
    "\n",
    "Grid search is a popular hyperparameter optimization technique used in machine learning to find the best combination of hyperparameters for a model. It loops through the parameters that we provide and finds the best hyperparameter that minimises loss."
   ]
  },
  {
   "cell_type": "code",
   "execution_count": null,
   "metadata": {},
   "outputs": [],
   "source": [
    "parameter_grid = {\n",
    "    \"n_estimators\": [200,300, 500, 700, 900],\n",
    "    \"max_depth\": [4, 6, 8, 10, 12,14], \n",
    "    # \"criterion\": ['gini', 'entropy']\n",
    "    }\n",
    "\n",
    "grid_search = model_selection.GridSearchCV(\n",
    "    estimator=model,\n",
    "    param_grid=parameter_grid,\n",
    "    scoring='accuracy',\n",
    "    n_jobs=-1,\n",
    "    verbose=2,\n",
    "    cv=3 # depends on the dataset size (2-5 for 100 datapoints, 5-10 for 1000, etc)\n",
    "\n",
    ")\n",
    "grid_search.fit(X,y)\n",
    "\n",
    "grid_search.best_score_, grid_search.best_estimator_.get_params()"
   ]
  },
  {
   "cell_type": "markdown",
   "metadata": {},
   "source": [
    "# Random Search\n",
    "\n",
    "Here, we give a range of hyperparameter to be tested. The search model randomly searches through the model to find a good set of hyperparameters."
   ]
  },
  {
   "cell_type": "code",
   "execution_count": null,
   "metadata": {},
   "outputs": [],
   "source": [
    "parameter_grid = {\n",
    "    \"n_estimators\": np.arange(100, 1000, 100),\n",
    "    \"max_depth\": np.arange(3, 20, 2), \n",
    "    \"criterion\": ['gini', 'entropy']\n",
    "    }\n",
    "\n",
    "grid_search = model_selection.RandomizedSearchCV(\n",
    "    estimator=model,\n",
    "    param_distributions=parameter_grid,\n",
    "    scoring='accuracy',\n",
    "    n_jobs=-1,\n",
    "    verbose=2,\n",
    "    cv=3\n",
    "\n",
    ")\n",
    "grid_search.fit(X,y)\n",
    "\n",
    "grid_search.best_score_, grid_search.best_estimator_.get_params()"
   ]
  },
  {
   "cell_type": "markdown",
   "metadata": {},
   "source": [
    "# Optuna\n",
    "\n",
    "i dont exactly understand this thing."
   ]
  },
  {
   "cell_type": "code",
   "execution_count": 2,
   "metadata": {},
   "outputs": [
    {
     "name": "stderr",
     "output_type": "stream",
     "text": [
      "[I 2024-07-06 20:53:28,552] A new study created in memory with name: no-name-b1359a50-2cc6-43d1-8bb8-1f14972b0c5c\n",
      "[I 2024-07-06 20:53:35,460] Trial 0 finished with value: 0.2745601016490047 and parameters: {'classifier': 'RandomForest', 'rf_max_depth': 25}. Best is trial 0 with value: 0.2745601016490047.\n",
      "[I 2024-07-06 20:53:42,054] Trial 1 finished with value: 0.27337328754356205 and parameters: {'classifier': 'RandomForest', 'rf_max_depth': 19}. Best is trial 1 with value: 0.27337328754356205.\n",
      "[I 2024-07-06 20:53:48,908] Trial 2 finished with value: 0.27420680109724266 and parameters: {'classifier': 'RandomForest', 'rf_max_depth': 22}. Best is trial 1 with value: 0.27337328754356205.\n"
     ]
    }
   ],
   "source": [
    "import sklearn\n",
    "from sklearn import datasets, ensemble, svm\n",
    "import optuna\n",
    "\n",
    "# Define an objective function to be minimized.\n",
    "def objective(trial):\n",
    "\n",
    "    # Invoke suggest methods of a Trial object to generate hyperparameters.\n",
    "    regressor_name = trial.suggest_categorical('classifier', ['SVR', 'RandomForest'])\n",
    "    if regressor_name == 'SVR':\n",
    "        svr_c = trial.suggest_float('svr_c', 1e-10, 1e10, log=True)\n",
    "        regressor_obj = sklearn.svm.SVR(C=svr_c)\n",
    "    else:\n",
    "        rf_max_depth = trial.suggest_int('rf_max_depth', 2, 32)\n",
    "        regressor_obj = sklearn.ensemble.RandomForestRegressor(max_depth=rf_max_depth)\n",
    "\n",
    "    X, y = sklearn.datasets.fetch_california_housing(return_X_y=True)\n",
    "    X_train, X_val, y_train, y_val = sklearn.model_selection.train_test_split(X, y, random_state=0)\n",
    "\n",
    "    regressor_obj.fit(X_train, y_train)\n",
    "    y_pred = regressor_obj.predict(X_val)\n",
    "\n",
    "    error = sklearn.metrics.mean_squared_error(y_val, y_pred)\n",
    "\n",
    "    return error  # An objective value linked with the Trial object.\n",
    "\n",
    "study = optuna.create_study()  # Create a new study.\n",
    "study.optimize(objective, n_trials=3)  # Invoke optimization of the objective function."
   ]
  },
  {
   "cell_type": "code",
   "execution_count": null,
   "metadata": {},
   "outputs": [],
   "source": []
  },
  {
   "cell_type": "code",
   "execution_count": null,
   "metadata": {},
   "outputs": [],
   "source": []
  },
  {
   "cell_type": "code",
   "execution_count": null,
   "metadata": {},
   "outputs": [],
   "source": []
  },
  {
   "cell_type": "code",
   "execution_count": null,
   "metadata": {},
   "outputs": [],
   "source": []
  },
  {
   "cell_type": "code",
   "execution_count": null,
   "metadata": {},
   "outputs": [],
   "source": []
  },
  {
   "cell_type": "code",
   "execution_count": null,
   "metadata": {},
   "outputs": [],
   "source": []
  },
  {
   "cell_type": "code",
   "execution_count": null,
   "metadata": {},
   "outputs": [],
   "source": []
  },
  {
   "cell_type": "code",
   "execution_count": null,
   "metadata": {},
   "outputs": [],
   "source": []
  }
 ],
 "metadata": {
  "kernelspec": {
   "display_name": "AI_ENV",
   "language": "python",
   "name": "python3"
  },
  "language_info": {
   "codemirror_mode": {
    "name": "ipython",
    "version": 3
   },
   "file_extension": ".py",
   "mimetype": "text/x-python",
   "name": "python",
   "nbconvert_exporter": "python",
   "pygments_lexer": "ipython3",
   "version": "3.10.12"
  }
 },
 "nbformat": 4,
 "nbformat_minor": 2
}
