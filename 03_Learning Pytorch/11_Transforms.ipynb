{
 "cells": [
  {
   "attachments": {},
   "cell_type": "markdown",
   "metadata": {},
   "source": [
    "###### Transforms can be applied to PIL images, tensors, ndarrays, or custom data during creation of the DataSet\n",
    "Complete list of built-in transforms: \n",
    "###### https://pytorch.org/docs/stable/torchvision/transforms.html\n",
    "On Images\n",
    "###### CenterCrop, Grayscale, Pad, RandomAffine\n",
    "###### RandomCrop, RandomHorizontalFlip, RandomRotation\n",
    "###### Resize, Scale\n",
    "On Tensors\n",
    "###### LinearTransformation, Normalize, RandomErasing\n",
    "Conversion\n",
    "###### ToPILImage: from tensor or ndrarray\n",
    "###### ToTensor : from numpy.ndarray or PILImage\n",
    "Generic\n",
    "###### Use Lambda \n",
    "Custom\n",
    "###### Write own class\n",
    "Compose multiple Transforms\n",
    "###### composed = transforms.Compose([Rescale(256), RandomCrop(224)])                             \n",
    "\n"
   ]
  },
  {
   "cell_type": "code",
   "execution_count": null,
   "metadata": {},
   "outputs": [],
   "source": [
    "import torch\n",
    "import torchvision\n",
    "from torch.utils.data import Dataset\n",
    "import numpy as np\n",
    "\n",
    "class WineDataset(Dataset):\n",
    "    def __init__(self, transform=None):\n",
    "        xy = np.loadtxt('wine.csv',dtype = np.float32, delimiter=',',skiprows=1)\n",
    "        self.x = torch.from_numpy(xy[:,1:])\n",
    "        self.y = torch.from_numpy(xy[:,0])\n",
    "        self.m, self.n = xy.shape\n",
    "        self.transform = transform\n",
    "\n",
    "    def __getitem__(self,indexVal):\n",
    "        out = self.x[indexVal], self.y[indexVal]\n",
    "        if self.transform:\n",
    "            out = self.transform(out)\n",
    "        return out\n",
    "    \n",
    "    def __len__(self):\n",
    "        return self.m\n",
    "    \n",
    "class ToNumpy:\n",
    "    def __call__(self,sample):\n",
    "        inputs, targets = sample\n",
    "        return np.array(inputs),np.array(targets)\n",
    "    \n",
    "class Multiply:\n",
    "    def __init__(self, factor):\n",
    "        self.factor = factor\n",
    "    def __call__(self,sample):\n",
    "        inputs, targets = sample\n",
    "        return inputs * self.factor, targets * self.factor\n",
    "\n",
    "composed_transform = torchvision.transforms.Compose([ToNumpy(), Multiply(3)])\n",
    "\n",
    "dataset = WineDataset(transform=composed_transform)\n",
    "print(dataset[1])"
   ]
  }
 ],
 "metadata": {
  "kernelspec": {
   "display_name": "Python 3",
   "language": "python",
   "name": "python3"
  },
  "language_info": {
   "codemirror_mode": {
    "name": "ipython",
    "version": 3
   },
   "file_extension": ".py",
   "mimetype": "text/x-python",
   "name": "python",
   "nbconvert_exporter": "python",
   "pygments_lexer": "ipython3",
   "version": "3.10.6"
  },
  "orig_nbformat": 4
 },
 "nbformat": 4,
 "nbformat_minor": 2
}
