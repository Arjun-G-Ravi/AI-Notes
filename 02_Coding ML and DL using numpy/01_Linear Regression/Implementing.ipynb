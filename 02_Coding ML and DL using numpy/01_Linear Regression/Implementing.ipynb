{
 "cells": [
  {
   "cell_type": "code",
   "execution_count": 1,
   "metadata": {},
   "outputs": [],
   "source": [
    "import numpy as np"
   ]
  },
  {
   "cell_type": "code",
   "execution_count": 8,
   "metadata": {},
   "outputs": [],
   "source": [
    "class LinearRegression:\n",
    "    def __init__(self, lr=.01, num_epochs=100):\n",
    "        self.lr = lr\n",
    "        self.num_epochs = num_epochs\n",
    "        self.weights = None\n",
    "        self.bias = None\n",
    "\n",
    "    def fit(self, X, y):\n",
    "        m, n = X.shape # num_data_points X num_features\n",
    "        self.weights = np.random(n)\n",
    "        self.bias = 0\n",
    "\n",
    "        for epoch in range(self.num_epochs):\n",
    "            prediction = self.predict(X)\n",
    "            J = self.mse_loss(prediction, y)\n",
    "            \n",
    "\n",
    "\n",
    "\n",
    "    def predict(self, X): # y = w.X + b\n",
    "        return [np.dot(self.weights, i)+self.bias for i in X] \n",
    "    \n",
    "    def mse_cost(self, y_hat, y):\n",
    "        cost = 0\n",
    "        for i in range(len(y)):\n",
    "            cost += (y_hat[i] - y[i])**2\n",
    "        return cost/len(y)\n",
    "    \n",
    "    \n",
    "        "
   ]
  },
  {
   "cell_type": "code",
   "execution_count": 13,
   "metadata": {},
   "outputs": [
    {
     "data": {
      "text/plain": [
       "3.3333333333029934e-11"
      ]
     },
     "execution_count": 13,
     "metadata": {},
     "output_type": "execute_result"
    }
   ],
   "source": [
    "o = LinearRegression()\n",
    "a = [1, 0, 1]\n",
    "b = [1, 0, .99999]\n",
    "o.mse_cost(a, b)"
   ]
  },
  {
   "cell_type": "code",
   "execution_count": null,
   "metadata": {},
   "outputs": [],
   "source": []
  },
  {
   "cell_type": "code",
   "execution_count": null,
   "metadata": {},
   "outputs": [],
   "source": []
  },
  {
   "cell_type": "code",
   "execution_count": null,
   "metadata": {},
   "outputs": [],
   "source": []
  },
  {
   "cell_type": "markdown",
   "metadata": {},
   "source": [
    "Dataset"
   ]
  },
  {
   "cell_type": "code",
   "execution_count": null,
   "metadata": {},
   "outputs": [],
   "source": []
  }
 ],
 "metadata": {
  "kernelspec": {
   "display_name": "NewPytorchEnv",
   "language": "python",
   "name": "python3"
  },
  "language_info": {
   "codemirror_mode": {
    "name": "ipython",
    "version": 3
   },
   "file_extension": ".py",
   "mimetype": "text/x-python",
   "name": "python",
   "nbconvert_exporter": "python",
   "pygments_lexer": "ipython3",
   "version": "3.10.12"
  },
  "orig_nbformat": 4
 },
 "nbformat": 4,
 "nbformat_minor": 2
}
