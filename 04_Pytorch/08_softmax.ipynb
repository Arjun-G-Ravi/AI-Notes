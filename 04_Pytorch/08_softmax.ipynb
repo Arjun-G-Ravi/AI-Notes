{
 "cells": [
  {
   "cell_type": "code",
   "execution_count": 2,
   "metadata": {},
   "outputs": [],
   "source": [
    "import torch\n",
    "import torch.nn as nn"
   ]
  },
  {
   "cell_type": "markdown",
   "metadata": {},
   "source": [
    "# Softmax function\n",
    "Softmax is a mathematical function often used in machine learning and statistics, particularly in the context of multiclass classification problems. It takes as input a vector of real numbers and transforms them into a probability distribution, which can be interpreted as the likelihood of each class or category."
   ]
  },
  {
   "cell_type": "code",
   "execution_count": 3,
   "metadata": {},
   "outputs": [
    {
     "name": "stdout",
     "output_type": "stream",
     "text": [
      "tensor([0.3851, 0.3813, 0.2336])\n"
     ]
    }
   ],
   "source": [
    "print(torch.softmax(torch.tensor([1,.99,.5],dtype =torch.float32), dim=0))"
   ]
  },
  {
   "attachments": {},
   "cell_type": "markdown",
   "metadata": {},
   "source": [
    "##### Cross Entropy Loss"
   ]
  },
  {
   "attachments": {},
   "cell_type": "markdown",
   "metadata": {},
   "source": [
    "The loss calculated for multi valued classification problem \n",
    "- No softmax in last layer needed\n",
    "- Y, not as one hot encoded\n",
    "- Y_hat has raw scores, not softmax"
   ]
  },
  {
   "cell_type": "code",
   "execution_count": 4,
   "metadata": {},
   "outputs": [
    {
     "name": "stdout",
     "output_type": "stream",
     "text": [
      "Loss_good:  0.7690061926841736\n",
      "Loss_bad:  4.030788898468018\n",
      "tensor([2, 0, 1])\n",
      "tensor([1, 2, 0])\n"
     ]
    }
   ],
   "source": [
    "loss = nn.CrossEntropyLoss()\n",
    "y = torch.tensor([2,0,1])   # Predicted is index\n",
    "y_hat_good = torch.tensor([[.1,.3,.6], [3,2,1], [.04,.1,0]], dtype=torch.float32)\n",
    "y_hat_bad = torch.tensor([[.1,.6,.3], [3,2,10], [4,.1,0]], dtype=torch.float32)\n",
    "\n",
    "l_good = loss(y_hat_good,y)\n",
    "l_bad = loss(y_hat_bad,y)\n",
    "\n",
    "print('Loss_good: ',l_good.item())\n",
    "print('Loss_bad: ',l_bad.item())\n",
    "\n",
    "_, predictionG = torch.max(y_hat_good,1)  # 1 refers to 1st dimension\n",
    "_, predictionB = torch.max(y_hat_bad,1)  # 1 refers to 1st dimension\n",
    "\n",
    "print(predictionG)\n",
    "print(predictionB)"
   ]
  }
 ],
 "metadata": {
  "kernelspec": {
   "display_name": "base",
   "language": "python",
   "name": "python3"
  },
  "language_info": {
   "codemirror_mode": {
    "name": "ipython",
    "version": 3
   },
   "file_extension": ".py",
   "mimetype": "text/x-python",
   "name": "python",
   "nbconvert_exporter": "python",
   "pygments_lexer": "ipython3",
   "version": "3.10.6"
  },
  "orig_nbformat": 4
 },
 "nbformat": 4,
 "nbformat_minor": 2
}
