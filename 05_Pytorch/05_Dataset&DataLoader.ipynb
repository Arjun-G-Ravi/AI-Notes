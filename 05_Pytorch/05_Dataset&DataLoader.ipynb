{
 "cells": [
  {
   "attachments": {},
   "cell_type": "markdown",
   "metadata": {},
   "source": [
    "# DataLoading"
   ]
  },
  {
   "attachments": {},
   "cell_type": "markdown",
   "metadata": {},
   "source": [
    "Gradient descent is not efficient for whole data set. So, we divide dataset into small batches.\n",
    "DataLoader can do the batch computation for us"
   ]
  },
  {
   "attachments": {},
   "cell_type": "markdown",
   "metadata": {},
   "source": [
    "Whenever using a custom dataset\n",
    "\n",
    "    1) Implement a custom Dataset\n",
    "    2) inherit Dataset and the optimiser\n",
    "    3) implement __init__ , __getitem__ , and __len__"
   ]
  },
  {
   "cell_type": "code",
   "execution_count": null,
   "metadata": {},
   "outputs": [],
   "source": [
    "# Step 0: Imports\n",
    "import torch\n",
    "import torchvision\n",
    "import numpy as np\n",
    "import math\n",
    "from torch.utils.data import Dataset, DataLoader\n",
    "\n",
    "# Step 1: Dataset creation\n",
    "class WineDataset(Dataset):\n",
    "    def __init__(self):\n",
    "        xy = np.loadtxt('wine.csv',dtype = np.float32, delimiter=',',skiprows=1)\n",
    "        self.x = torch.from_numpy(xy[:,1:])\n",
    "        self.y = torch.from_numpy(xy[:,0])\n",
    "        self.m, self.n = xy.shape\n",
    "\n",
    "    def __getitem__(self,indexVal):\n",
    "        return self.x[indexVal], self.y[indexVal]\n",
    "    \n",
    "    def __len__(self):\n",
    "        return self.m\n",
    "\n",
    "dataset = WineDataset()\n",
    "'''\n",
    "print(dataset[10])      # Testing indexing\n",
    "print(len(dataset))     # Testing len() function\n",
    "'''\n",
    "\n",
    "# Step 2: Data Loading\n",
    "dataloader = DataLoader(dataset=dataset, batch_size=4, shuffle=True, num_workers=0)\n",
    "\n",
    "# Step 3:Training loop\n",
    "num_epoch = 3\n",
    "tot_iterations = math.ceil(len(dataset)/4)\n",
    "\n",
    "for epoch in range(num_epoch):\n",
    "    for i,(inputs,labels) in enumerate(dataloader):     \n",
    "        # PERFORM TRAINING..........\n",
    "        if i%15 == 0:\n",
    "            print(f\"Epoch:{epoch}  Step:{i}/45  Label:{np.array(labels,dtype=np.int32)}\")\n",
    "    print()"
   ]
  }
 ],
 "metadata": {
  "kernelspec": {
   "display_name": "base",
   "language": "python",
   "name": "python3"
  },
  "language_info": {
   "codemirror_mode": {
    "name": "ipython",
    "version": 3
   },
   "file_extension": ".py",
   "mimetype": "text/x-python",
   "name": "python",
   "nbconvert_exporter": "python",
   "pygments_lexer": "ipython3",
   "version": "3.10.12"
  },
  "orig_nbformat": 4
 },
 "nbformat": 4,
 "nbformat_minor": 2
}
