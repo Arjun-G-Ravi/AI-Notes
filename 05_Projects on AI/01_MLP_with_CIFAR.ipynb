{
 "cells": [
  {
   "cell_type": "markdown",
   "metadata": {},
   "source": [
    "# Attempting CIFAR10 with (just) a Multilayered Perceptron"
   ]
  },
  {
   "attachments": {},
   "cell_type": "markdown",
   "metadata": {},
   "source": [
    "Step 0"
   ]
  },
  {
   "cell_type": "code",
   "execution_count": null,
   "metadata": {},
   "outputs": [],
   "source": [
    "import torch\n",
    "import torch.nn as nn\n",
    "import torchvision\n",
    "import torchvision.transforms as transforms\n",
    "import matplotlib.pyplot as plt"
   ]
  },
  {
   "cell_type": "code",
   "execution_count": null,
   "metadata": {},
   "outputs": [],
   "source": [
    "device = torch.device('cuda' if torch.cuda.is_available() else 'cpu')\n",
    "device"
   ]
  },
  {
   "cell_type": "code",
   "execution_count": null,
   "metadata": {},
   "outputs": [],
   "source": [
    "transform = transforms.ToTensor()\n",
    "batch_size = 500\n",
    "num_epoch = 50\n",
    "lr = .0001\n",
    "hidden_size1 = 300\n",
    "hidden_size2 = 300\n",
    "hidden_size3 = 300\n",
    "hidden_size4 = 300"
   ]
  },
  {
   "cell_type": "code",
   "execution_count": null,
   "metadata": {},
   "outputs": [],
   "source": [
    "train_dataset = torchvision.datasets.CIFAR10('/home/arjun/Desktop/Datasets', train=True, transform=transform, download=True)\n",
    "test_dataset =  torchvision.datasets.CIFAR10('/home/arjun/Desktop/Datasets', train=False, transform=transform, download=True)\n",
    "\n",
    "train_loader = torch.utils.data.DataLoader(train_dataset, shuffle=True, batch_size=batch_size)\n",
    "test_loader = torch.utils.data.DataLoader(test_dataset, shuffle=False, batch_size=batch_size)"
   ]
  },
  {
   "cell_type": "code",
   "execution_count": null,
   "metadata": {},
   "outputs": [],
   "source": [
    "tot_steps = len(train_loader)  # Or the total number of batches\n",
    "\n",
    "# One step is one batch calculation\n",
    "tot_steps"
   ]
  },
  {
   "cell_type": "code",
   "execution_count": null,
   "metadata": {},
   "outputs": [],
   "source": [
    "classes = ['plane', 'car', 'bird', 'cat','deer', 'dog', 'frog', 'horse', 'ship', 'truck']"
   ]
  },
  {
   "cell_type": "code",
   "execution_count": null,
   "metadata": {},
   "outputs": [],
   "source": [
    "for batch in train_loader:\n",
    "    image, label = batch\n",
    "\n",
    "(batch[0]).shape\n"
   ]
  },
  {
   "cell_type": "code",
   "execution_count": null,
   "metadata": {},
   "outputs": [],
   "source": [
    "# print(classes[label[0]])\n",
    "# plt.imshow(image[0][0])\n",
    "# plt.show()"
   ]
  },
  {
   "cell_type": "code",
   "execution_count": null,
   "metadata": {},
   "outputs": [],
   "source": [
    "for i in range(1,10):\n",
    "    plt.subplot(3,3,i)\n",
    "    plt.imshow(image[i][0])\n",
    "    plt.ylabel(classes[label[i]])"
   ]
  },
  {
   "attachments": {},
   "cell_type": "markdown",
   "metadata": {},
   "source": [
    "Step 1"
   ]
  },
  {
   "cell_type": "code",
   "execution_count": null,
   "metadata": {},
   "outputs": [],
   "source": [
    "class CIFAR10_NN(nn.Module):\n",
    "    def __init__(self, inp_size, hidden_size1, hidden_size2, hidden_size3, hidden_size4, out_size):\n",
    "        super(CIFAR10_NN, self).__init__()\n",
    "        self.lay1 = nn.Linear(inp_size, hidden_size1)\n",
    "        self.lay2 = nn.ReLU()\n",
    "        self.lay3 = nn.Linear(hidden_size1, hidden_size2)\n",
    "        self.lay4 = nn.Linear(hidden_size2, hidden_size3)\n",
    "        self.lay5 = nn.Linear(hidden_size3, hidden_size4)\n",
    "        self.lay6 = nn.Linear(hidden_size4, out_size)\n",
    "    def forward(self, X):\n",
    "        out = self.lay1(X)  \n",
    "        out = self.lay2(out)\n",
    "        out = self.lay3(out)\n",
    "        out = self.lay2(out)\n",
    "        out = self.lay4(out)\n",
    "        out = self.lay2(out)\n",
    "        out = self.lay5(out)\n",
    "        out = self.lay2(out)\n",
    "        out = self.lay6(out)\n",
    "        return out\n",
    "    \n",
    "model = CIFAR10_NN(32*32, hidden_size1, hidden_size2, hidden_size3, hidden_size4, 10).to(device)"
   ]
  },
  {
   "attachments": {},
   "cell_type": "markdown",
   "metadata": {},
   "source": [
    "Step 2"
   ]
  },
  {
   "cell_type": "code",
   "execution_count": null,
   "metadata": {},
   "outputs": [],
   "source": [
    "lossCat = nn.CrossEntropyLoss()\n",
    "optimiser = torch.optim.Adam(model.parameters(), lr=lr)"
   ]
  },
  {
   "attachments": {},
   "cell_type": "markdown",
   "metadata": {},
   "source": [
    "Step 3"
   ]
  },
  {
   "cell_type": "code",
   "execution_count": null,
   "metadata": {},
   "outputs": [],
   "source": [
    "num_steps_in_a_batch = len(train_dataset)/batch_size\n",
    "for epoch in range(num_epoch):\n",
    "    for step, (images, labels) in enumerate(train_loader):\n",
    "        images = images[:,1,:,:].reshape(batch_size,32*32).to(device)\n",
    "        labels = labels.to(device)\n",
    "\n",
    "        y_hat = model(images)\n",
    "        loss = lossCat(y_hat, labels)\n",
    "        loss.backward()\n",
    "        optimiser.step()\n",
    "        optimiser.zero_grad()\n",
    "\n",
    "        if step == num_steps_in_a_batch - 1:\n",
    "            print(f\"Epoch {epoch+1}  Loss:{loss}\")"
   ]
  },
  {
   "attachments": {},
   "cell_type": "markdown",
   "metadata": {},
   "source": [
    "Step 4"
   ]
  },
  {
   "cell_type": "code",
   "execution_count": null,
   "metadata": {},
   "outputs": [],
   "source": [
    "# print(len(train_loader))\n",
    "with torch.no_grad():\n",
    "    tot_sample, correct_sample = 0,0\n",
    "    for sample, target in test_loader:  \n",
    "            sample = sample[:,1,:,:].resize(batch_size, 32*32).to(device)\n",
    "            target = target.to(device)\n",
    "\n",
    "            out = model(sample)\n",
    "            _, prediction = torch.max(out,1)\n",
    "            # print(target)\n",
    "            # print(prediction)\n",
    "            # print()\n",
    "            \n",
    "            tot_sample += batch_size\n",
    "            correct_sample += ((prediction == target).sum()).item()"
   ]
  },
  {
   "cell_type": "code",
   "execution_count": null,
   "metadata": {},
   "outputs": [],
   "source": [
    "print(f\"Accuracy = {(correct_sample/tot_sample)*100:.3f}\")"
   ]
  },
  {
   "attachments": {},
   "cell_type": "markdown",
   "metadata": {},
   "source": [
    "Best Accuracy = 44.5 %"
   ]
  },
  {
   "cell_type": "markdown",
   "metadata": {},
   "source": [
    "Well, guess that's why CNNs are used. 😆"
   ]
  }
 ],
 "metadata": {
  "kernelspec": {
   "display_name": "Python 3",
   "language": "python",
   "name": "python3"
  },
  "language_info": {
   "codemirror_mode": {
    "name": "ipython",
    "version": 3
   },
   "file_extension": ".py",
   "mimetype": "text/x-python",
   "name": "python",
   "nbconvert_exporter": "python",
   "pygments_lexer": "ipython3",
   "version": "3.10.12"
  },
  "orig_nbformat": 4
 },
 "nbformat": 4,
 "nbformat_minor": 2
}
