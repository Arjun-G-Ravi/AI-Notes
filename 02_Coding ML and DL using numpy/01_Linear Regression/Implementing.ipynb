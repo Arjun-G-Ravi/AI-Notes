{
 "cells": [
  {
   "cell_type": "code",
   "execution_count": 39,
   "metadata": {},
   "outputs": [],
   "source": [
    "import numpy as np"
   ]
  },
  {
   "cell_type": "code",
   "execution_count": 58,
   "metadata": {},
   "outputs": [],
   "source": [
    "class LinearRegression:\n",
    "    def __init__(self, lr=.01, num_epochs=100):\n",
    "        self.lr = lr\n",
    "        self.num_epochs = num_epochs\n",
    "        self.weights = None\n",
    "        self.bias = None\n",
    "\n",
    "    def fit(self, X, y):\n",
    "        m, n = X.shape # num_data_points X num_features\n",
    "        self.weights = np.zeros(n)\n",
    "        self.bias = 0\n",
    "\n",
    "        for epoch in range(self.num_epochs):\n",
    "            prediction = self.predict(X)\n",
    "            if not epoch % 10:\n",
    "                J = self.mse_cost(prediction, y)    \n",
    "                print(f'Epoch={epoch} Cost={J}')\n",
    "\n",
    "            dJ_dw = (1/m) * np.dot(prediction - y, X) # 1Xm and mXn\n",
    "            dJ_db = (1/m) * np.sum(prediction - y)\n",
    "\n",
    "            self.weights -= self.lr * dJ_dw\n",
    "            self.bias -= self.lr * dJ_db\n",
    "\n",
    "\n",
    "\n",
    "    def predict(self, X): # y = w.X + b\n",
    "        return [np.dot(self.weights,i)+self.bias for i in X] \n",
    "    \n",
    "    def mse_cost(self, y_hat, y):\n",
    "        cost = 0\n",
    "        for i in range(len(y)):\n",
    "            cost += (y_hat[i] - y[i])**2\n",
    "        return cost/len(y)\n",
    "    \n",
    "    \n",
    "        "
   ]
  },
  {
   "cell_type": "code",
   "execution_count": 59,
   "metadata": {},
   "outputs": [],
   "source": [
    "from sklearn.datasets import load_iris\n",
    "from sklearn.model_selection import train_test_split\n",
    "ds = load_iris()\n",
    "X_train, X_test, y_train, y_test = train_test_split(ds['data'], ds['target'])"
   ]
  },
  {
   "cell_type": "code",
   "execution_count": 60,
   "metadata": {},
   "outputs": [
    {
     "name": "stdout",
     "output_type": "stream",
     "text": [
      "Epoch=0 Cost=1.5982142857142858\n",
      "Epoch=10 Cost=0.2849433942721556\n",
      "Epoch=20 Cost=0.20144185558044694\n",
      "Epoch=30 Cost=0.14833083460420227\n",
      "Epoch=40 Cost=0.11453117376235349\n",
      "Epoch=50 Cost=0.09300300218821532\n",
      "Epoch=60 Cost=0.07927306901522246\n",
      "Epoch=70 Cost=0.07049899241990838\n",
      "Epoch=80 Cost=0.06487466941437976\n",
      "Epoch=90 Cost=0.06125246430037101\n"
     ]
    }
   ],
   "source": [
    "Lreg = LinearRegression()\n",
    "Lreg.fit(X_train, y_train)"
   ]
  },
  {
   "cell_type": "code",
   "execution_count": 61,
   "metadata": {},
   "outputs": [
    {
     "data": {
      "text/plain": [
       "[0.027213093813380614,\n",
       " 1.4438832487016466,\n",
       " 1.790588086535552,\n",
       " 1.15245698544163,\n",
       " 0.022877007832399383,\n",
       " 1.793043274757707,\n",
       " -0.07216730429607265,\n",
       " 1.264550163411703,\n",
       " 1.5855370922412915,\n",
       " 1.1810486333486576,\n",
       " 1.1529674306494386,\n",
       " 0.022460021551467098,\n",
       " 0.040313246283577193,\n",
       " 1.18972080531062,\n",
       " 1.6592260662185365,\n",
       " 1.1363199996963105,\n",
       " 1.3531267286910942,\n",
       " 1.4763457024456617,\n",
       " 1.2715995553137511,\n",
       " 0.1745926061674945,\n",
       " 0.0478263539299958,\n",
       " 1.6055776262942005,\n",
       " 0.9142045881679899,\n",
       " 0.02220190385255561,\n",
       " 0.9402460245263624,\n",
       " 2.076486457028441,\n",
       " 1.6515572187893441,\n",
       " 0.04432424051087908,\n",
       " 1.5429385550574204,\n",
       " 1.6611552578404238,\n",
       " 0.8064319447864392,\n",
       " 1.5476900629197103,\n",
       " 1.2994678053778734,\n",
       " 1.9110921899694289,\n",
       " 1.8567639528663784,\n",
       " 1.6627780379003385,\n",
       " 1.401819627107305,\n",
       " 1.1248394984867813]"
      ]
     },
     "execution_count": 61,
     "metadata": {},
     "output_type": "execute_result"
    }
   ],
   "source": [
    "pred = Lreg.predict(X_test)\n",
    "pred"
   ]
  },
  {
   "cell_type": "code",
   "execution_count": 62,
   "metadata": {},
   "outputs": [],
   "source": [
    "def mse_cost(y_hat, y):\n",
    "        cost = 0\n",
    "        for i in range(len(y)):\n",
    "            cost += (y_hat[i] - y[i])**2\n",
    "        return cost/len(y)"
   ]
  },
  {
   "cell_type": "code",
   "execution_count": 63,
   "metadata": {},
   "outputs": [
    {
     "data": {
      "text/plain": [
       "0.07284554413760144"
      ]
     },
     "execution_count": 63,
     "metadata": {},
     "output_type": "execute_result"
    }
   ],
   "source": [
    "mse_cost(pred, y_test)"
   ]
  }
 ],
 "metadata": {
  "kernelspec": {
   "display_name": "NewPytorchEnv",
   "language": "python",
   "name": "python3"
  },
  "language_info": {
   "codemirror_mode": {
    "name": "ipython",
    "version": 3
   },
   "file_extension": ".py",
   "mimetype": "text/x-python",
   "name": "python",
   "nbconvert_exporter": "python",
   "pygments_lexer": "ipython3",
   "version": "3.10.12"
  },
  "orig_nbformat": 4
 },
 "nbformat": 4,
 "nbformat_minor": 2
}
