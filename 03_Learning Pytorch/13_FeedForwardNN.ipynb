{
 "cells": [
  {
   "attachments": {},
   "cell_type": "markdown",
   "metadata": {},
   "source": [
    "Step0: Imports, GPU support, dataset preparation"
   ]
  },
  {
   "cell_type": "code",
   "execution_count": 16,
   "metadata": {},
   "outputs": [],
   "source": [
    "# Imports\n",
    "import torch\n",
    "import torch.nn as nn\n",
    "import matplotlib.pyplot as plt\n",
    "import torchvision\n",
    "import torchvision.transforms as transforms"
   ]
  },
  {
   "cell_type": "code",
   "execution_count": 17,
   "metadata": {},
   "outputs": [
    {
     "name": "stdout",
     "output_type": "stream",
     "text": [
      "cuda\n"
     ]
    }
   ],
   "source": [
    "# Cuda check\n",
    "device = torch.device('cuda' if torch.cuda.is_available() else 'cpu')\n",
    "print(device)"
   ]
  },
  {
   "cell_type": "code",
   "execution_count": 18,
   "metadata": {},
   "outputs": [
    {
     "name": "stdout",
     "output_type": "stream",
     "text": [
      "2.0.1+cu117\n"
     ]
    }
   ],
   "source": [
    "print(torch.__version__)"
   ]
  },
  {
   "cell_type": "code",
   "execution_count": 19,
   "metadata": {},
   "outputs": [],
   "source": [
    "# hyper parameters\n",
    "input_size = 784\n",
    "hidden_layers = 300\n",
    "batch_size = 100\n",
    "num_classes = 10\n",
    "num_epochs = 2\n",
    "lr =.001"
   ]
  },
  {
   "cell_type": "code",
   "execution_count": 32,
   "metadata": {},
   "outputs": [
    {
     "name": "stdout",
     "output_type": "stream",
     "text": [
      "<class 'torchvision.datasets.mnist.MNIST'>\n",
      "<class 'torch.utils.data.dataloader.DataLoader'>\n"
     ]
    }
   ],
   "source": [
    "# MNIST dataset\n",
    "train_dataset = torchvision.datasets.MNIST(root='/home/arjun/Documents/DatasetCollection', train=True, transform=transforms.ToTensor(), download=True)\n",
    "test_dataset =  torchvision.datasets.MNIST(root='/home/arjun/Documents/DatasetCollection', train=False, transform=transforms.ToTensor(), download=False)\n",
    "\n",
    "train_loader = torch.utils.data.DataLoader(dataset=train_dataset, shuffle=True, batch_size=batch_size)\n",
    "test_loader = torch.utils.data.DataLoader(dataset=test_dataset, shuffle=False, batch_size=batch_size)\n",
    "'''\n",
    "Train loader contains batches\n",
    "Each batch is a list with 2 tensors- sample and target\n",
    "'''\n",
    "print(type(train_dataset))\n",
    "print(type(train_loader))"
   ]
  },
  {
   "attachments": {},
   "cell_type": "markdown",
   "metadata": {},
   "source": [
    "If the data is available in a file(or as files), we have to create custom dataset class and put the dataset as dataset class. Then we can convert it into dataLoader format.\n",
    "\n",
    "Here, we donot need that.\n",
    "The torchvision provides MNIST in dataset format. We can directly convert it into dataLoader.\n"
   ]
  },
  {
   "cell_type": "code",
   "execution_count": 21,
   "metadata": {},
   "outputs": [
    {
     "name": "stdout",
     "output_type": "stream",
     "text": [
      "torch.Size([28, 28])\n",
      "torch.Size([28, 28])\n"
     ]
    },
    {
     "data": {
      "image/png": "[encoded data removed]",
      "text/plain": [
       "<Figure size 640x480 with 9 Axes>"
      ]
     },
     "metadata": {},
     "output_type": "display_data"
    }
   ],
   "source": [
    "# View\n",
    "for batch in train_loader:\n",
    "    sample, label = batch\n",
    "print(sample[1][0].shape)\n",
    "for i in range (9):\n",
    "    plt.subplot(3,3,i+1)\n",
    "    plt.imshow(sample[i][0])\n",
    "print(sample[i][0].shape)"
   ]
  },
  {
   "attachments": {},
   "cell_type": "markdown",
   "metadata": {},
   "source": [
    "Step 1: Model"
   ]
  },
  {
   "cell_type": "code",
   "execution_count": 22,
   "metadata": {},
   "outputs": [],
   "source": [
    "class NeuralNet(nn.Module):\n",
    "    def __init__(self, inp_size, hidden_size, out_size):\n",
    "        super(NeuralNet,self).__init__()\n",
    "        self.inp_size = inp_size\n",
    "        self.lay1 = nn.Linear(inp_size, hidden_size)\n",
    "        self.lay2 = nn.ReLU()\n",
    "        self.lay3 = nn.Linear(hidden_size, out_size)\n",
    "\n",
    "    def forward(self,x):\n",
    "        out = self.lay1(x)\n",
    "        out = self.lay2(out)\n",
    "        out = self.lay3(out)  # We don't apply sotmax the cross entropy loss will do that for us\n",
    "        return out\n",
    "    \n",
    "model = NeuralNet(input_size, hidden_layers, num_classes).to(device)"
   ]
  },
  {
   "attachments": {},
   "cell_type": "markdown",
   "metadata": {},
   "source": [
    "Step 2: Loss and optimiser"
   ]
  },
  {
   "cell_type": "code",
   "execution_count": 23,
   "metadata": {},
   "outputs": [],
   "source": [
    "lossCategory = nn.CrossEntropyLoss()\n",
    "optimiser = torch.optim.Adam(model.parameters(), lr = lr)"
   ]
  },
  {
   "attachments": {},
   "cell_type": "markdown",
   "metadata": {},
   "source": [
    "Step 3: Training Loop"
   ]
  },
  {
   "cell_type": "code",
   "execution_count": 28,
   "metadata": {},
   "outputs": [
    {
     "name": "stdout",
     "output_type": "stream",
     "text": [
      "Epoch:1/2  Step:0/600  Loss:0.07265142351388931\n",
      "Epoch:1/2  Step:200/600  Loss:0.03090054728090763\n",
      "Epoch:1/2  Step:400/600  Loss:0.11122693866491318\n",
      "Epoch:2/2  Step:0/600  Loss:0.010638837702572346\n",
      "Epoch:2/2  Step:200/600  Loss:0.006880584172904491\n",
      "Epoch:2/2  Step:400/600  Loss:0.0459819994866848\n"
     ]
    }
   ],
   "source": [
    "n_tot_steps = len(train_loader)\n",
    "for epoch in range(num_epochs):\n",
    "    for i,(images, labels) in enumerate(train_loader):\n",
    "        # Reshape: [100,1,28,28] -> [100,784]\n",
    "        images = images.reshape(-1,28*28).to(device)\n",
    "        labels = labels.to(device)\n",
    "\n",
    "        # Forward pass\n",
    "        output = model(images)\n",
    "\n",
    "        # Backward pass\n",
    "        loss = lossCategory(output, labels)\n",
    "        loss.backward()\n",
    "        optimiser.step()\n",
    "        optimiser.zero_grad()\n",
    "\n",
    "        # Print details\n",
    "        if ((i)%200) == 0:\n",
    "            print(f\"Epoch:{epoch+1}/{num_epochs}  Step:{i}/{n_tot_steps}  Loss:{loss}\")\n"
   ]
  },
  {
   "attachments": {},
   "cell_type": "markdown",
   "metadata": {},
   "source": [
    "Step 4: Testing"
   ]
  },
  {
   "cell_type": "code",
   "execution_count": 29,
   "metadata": {},
   "outputs": [
    {
     "name": "stdout",
     "output_type": "stream",
     "text": [
      "Accuracy: 97.700%\n",
      "Loss=0.034\n"
     ]
    }
   ],
   "source": [
    "with torch.no_grad():\n",
    "    n_correct, n_samples =0,0\n",
    "    for images, labels in test_loader:\n",
    "        images = images.reshape(-1,28*28).to(device)\n",
    "        labels = labels.to(device)\n",
    "        outputs = model(images)\n",
    "        # value, index\n",
    "        _, prediction = torch.max(outputs,1)\n",
    "        n_samples += labels.size(0)\n",
    "        n_correct += (prediction == labels).sum().item()\n",
    "\n",
    "acc = (n_correct/n_samples)*100\n",
    "print(f\"Accuracy: {acc:.3f}%\\nLoss={loss:.3f}\")\n",
    "\n"
   ]
  }
 ],
 "metadata": {
  "kernelspec": {
   "display_name": "Python 3",
   "language": "python",
   "name": "python3"
  },
  "language_info": {
   "codemirror_mode": {
    "name": "ipython",
    "version": 3
   },
   "file_extension": ".py",
   "mimetype": "text/x-python",
   "name": "python",
   "nbconvert_exporter": "python",
   "pygments_lexer": "ipython3",
   "version": "3.10.6"
  },
  "orig_nbformat": 4
 },
 "nbformat": 4,
 "nbformat_minor": 2
}
