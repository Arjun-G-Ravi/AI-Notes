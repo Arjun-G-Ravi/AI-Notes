{
 "cells": [
  {
   "cell_type": "code",
   "execution_count": 1,
   "metadata": {},
   "outputs": [],
   "source": [
    "import torch\n",
    "import matplotlib.pyplot as plt\n",
    "from sklearn.datasets import make_classification"
   ]
  },
  {
   "cell_type": "code",
   "execution_count": 2,
   "metadata": {},
   "outputs": [
    {
     "name": "stdout",
     "output_type": "stream",
     "text": [
      "torch.Size([100, 3])\n",
      "torch.Size([100, 1])\n"
     ]
    }
   ],
   "source": [
    "X,y = make_classification(100,n_features=3,n_classes=2,n_redundant=0)\n",
    "X = torch.from_numpy(X).float()\n",
    "y = torch.from_numpy(y).float().view(100,1)\n",
    "print(X.shape)\n",
    "print(y.shape)"
   ]
  },
  {
   "cell_type": "code",
   "execution_count": 3,
   "metadata": {},
   "outputs": [
    {
     "data": {
      "text/plain": [
       "tensor([[1.],\n",
       "        [1.],\n",
       "        [0.],\n",
       "        [0.],\n",
       "        [0.],\n",
       "        [1.],\n",
       "        [0.],\n",
       "        [1.],\n",
       "        [0.],\n",
       "        [0.],\n",
       "        [1.],\n",
       "        [0.],\n",
       "        [1.],\n",
       "        [1.],\n",
       "        [0.],\n",
       "        [0.],\n",
       "        [0.],\n",
       "        [1.],\n",
       "        [0.],\n",
       "        [1.],\n",
       "        [0.],\n",
       "        [0.],\n",
       "        [0.],\n",
       "        [0.],\n",
       "        [0.],\n",
       "        [1.],\n",
       "        [1.],\n",
       "        [1.],\n",
       "        [1.],\n",
       "        [0.],\n",
       "        [1.],\n",
       "        [1.],\n",
       "        [1.],\n",
       "        [0.],\n",
       "        [0.],\n",
       "        [1.],\n",
       "        [0.],\n",
       "        [0.],\n",
       "        [0.],\n",
       "        [0.],\n",
       "        [0.],\n",
       "        [0.],\n",
       "        [1.],\n",
       "        [1.],\n",
       "        [0.],\n",
       "        [0.],\n",
       "        [1.],\n",
       "        [0.],\n",
       "        [1.],\n",
       "        [1.],\n",
       "        [1.],\n",
       "        [0.],\n",
       "        [1.],\n",
       "        [0.],\n",
       "        [1.],\n",
       "        [1.],\n",
       "        [1.],\n",
       "        [0.],\n",
       "        [0.],\n",
       "        [1.],\n",
       "        [1.],\n",
       "        [0.],\n",
       "        [0.],\n",
       "        [1.],\n",
       "        [0.],\n",
       "        [1.],\n",
       "        [1.],\n",
       "        [0.],\n",
       "        [1.],\n",
       "        [1.],\n",
       "        [0.],\n",
       "        [0.],\n",
       "        [1.],\n",
       "        [1.],\n",
       "        [1.],\n",
       "        [1.],\n",
       "        [0.],\n",
       "        [1.],\n",
       "        [0.],\n",
       "        [1.],\n",
       "        [0.],\n",
       "        [1.],\n",
       "        [1.],\n",
       "        [1.],\n",
       "        [1.],\n",
       "        [1.],\n",
       "        [1.],\n",
       "        [1.],\n",
       "        [0.],\n",
       "        [0.],\n",
       "        [0.],\n",
       "        [0.],\n",
       "        [0.],\n",
       "        [1.],\n",
       "        [0.],\n",
       "        [0.],\n",
       "        [1.],\n",
       "        [0.],\n",
       "        [1.],\n",
       "        [0.]])"
      ]
     },
     "execution_count": 3,
     "metadata": {},
     "output_type": "execute_result"
    }
   ],
   "source": [
    "y"
   ]
  },
  {
   "cell_type": "code",
   "execution_count": 4,
   "metadata": {},
   "outputs": [],
   "source": [
    "W = torch.randn(3,1, requires_grad=True)\n",
    "b = torch.zeros(1,1, requires_grad=True)"
   ]
  },
  {
   "cell_type": "code",
   "execution_count": 5,
   "metadata": {},
   "outputs": [],
   "source": [
    "def sigmoid(x): return 1/(1+torch.exp(-x))"
   ]
  },
  {
   "cell_type": "code",
   "execution_count": 6,
   "metadata": {},
   "outputs": [
    {
     "data": {
      "text/plain": [
       "tensor([3.2051, 1.3405, 0.8804, 0.9099, 2.8562, 0.3633, 1.9372, 0.6571, 2.1181,\n",
       "        2.7609, 1.6509, 1.3623, 1.0422, 0.3570, 1.4064, 1.4968, 0.2841, 1.0818,\n",
       "        1.4759, 1.1923, 2.0969, 0.3375, 0.8084, 0.9052, 0.7548, 3.2977, 1.0761,\n",
       "        2.7586, 1.8567, 1.0031, 0.5765, 0.3154, 1.8202, 1.7418, 1.1077, 0.5344,\n",
       "        1.4870, 0.3936, 0.7473, 0.2947, 1.3336, 1.6025, 1.2711, 0.5484, 0.3739,\n",
       "        1.4322, 0.7007, 0.7938, 1.3229, 2.3285, 0.4666, 0.2938, 1.8016, 0.5176,\n",
       "        1.3781, 1.8738, 1.0357, 0.5691, 1.5102, 1.6293, 0.6626, 1.9044, 1.2619,\n",
       "        1.4152, 0.8119, 3.2381, 1.6001, 1.1824, 1.1054, 0.4791, 1.0611, 0.7441,\n",
       "        0.4594, 1.6845, 1.7108, 0.8568, 1.2485, 0.7811, 1.8808, 2.5356, 0.2719,\n",
       "        1.1228, 0.2547, 1.5933, 2.5129, 1.0728, 2.7765, 1.0854, 0.7930, 1.2420,\n",
       "        0.7214, 1.1393, 1.4758, 2.5875, 1.4595, 0.9635, 1.4641, 1.5408, 0.2896,\n",
       "        1.1880])"
      ]
     },
     "execution_count": 6,
     "metadata": {},
     "output_type": "execute_result"
    }
   ],
   "source": [
    "y_pred = sigmoid(X@W+b)\n",
    "h = 1e-7\n",
    "loss = []\n",
    "\n",
    "for y_i, y_pred_i in zip(y, y_pred):\n",
    "    loss.append(-torch.log(y_pred_i+h)) if y_i == 1 else loss.append(-torch.log(1-y_pred_i+h))\n",
    "loss = torch.tensor(loss)\n",
    "loss"
   ]
  },
  {
   "cell_type": "code",
   "execution_count": 7,
   "metadata": {},
   "outputs": [
    {
     "name": "stdout",
     "output_type": "stream",
     "text": [
      "0.46710139513015747\n",
      "0.4622114598751068\n",
      "0.4572815001010895\n",
      "0.4523145258426666\n",
      "0.44731369614601135\n",
      "0.4422820806503296\n",
      "0.43722304701805115\n",
      "0.4321398138999939\n",
      "0.38115742802619934\n",
      "0.3306003212928772\n",
      "0.2831783592700958\n",
      "0.24051715433597565\n",
      "0.2037685364484787\n",
      "0.17343345284461975\n",
      "0.1492694914340973\n",
      "0.13045889139175415\n",
      "0.11593186110258102\n",
      "0.10465805232524872\n",
      "0.09579305350780487\n",
      "0.08870188891887665\n"
     ]
    }
   ],
   "source": [
    "# Training\n",
    "\n",
    "for i in range(2000):\n",
    "    y_pred = sigmoid(X@W+b)\n",
    "    loss = ((y_pred-y)**2).mean()\n",
    "    loss.backward()\n",
    "    lr = .01 if i > 700 else .001\n",
    "    W = W - lr*W.grad\n",
    "    b = b - lr*b.grad\n",
    "    b.grad = None\n",
    "    W.grad = None\n",
    "    W.retain_grad()\n",
    "    b.retain_grad()\n",
    "    if not i%100: print(loss.item())"
   ]
  },
  {
   "cell_type": "markdown",
   "metadata": {},
   "source": [
    "# Evaluation"
   ]
  },
  {
   "cell_type": "code",
   "execution_count": 8,
   "metadata": {},
   "outputs": [
    {
     "name": "stdout",
     "output_type": "stream",
     "text": [
      "Accuracy: 97%\n"
     ]
    }
   ],
   "source": [
    "ct = 0\n",
    "with torch.no_grad():\n",
    "    for a,b in zip(y_pred, y):\n",
    "        if round(a.item()) == b.item():\n",
    "            ct += 1\n",
    "        \n",
    "print(f'Accuracy: {ct}%')"
   ]
  }
 ],
 "metadata": {
  "kernelspec": {
   "display_name": "AI_ENV",
   "language": "python",
   "name": "python3"
  },
  "language_info": {
   "codemirror_mode": {
    "name": "ipython",
    "version": 3
   },
   "file_extension": ".py",
   "mimetype": "text/x-python",
   "name": "python",
   "nbconvert_exporter": "python",
   "pygments_lexer": "ipython3",
   "version": "3.10.12"
  }
 },
 "nbformat": 4,
 "nbformat_minor": 2
}
