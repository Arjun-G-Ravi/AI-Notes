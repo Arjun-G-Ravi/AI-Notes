{
 "cells": [
  {
   "cell_type": "code",
   "execution_count": 1,
   "metadata": {},
   "outputs": [],
   "source": [
    "import numpy as np"
   ]
  },
  {
   "cell_type": "code",
   "execution_count": 2,
   "metadata": {},
   "outputs": [],
   "source": [
    "class LinearRegression:\n",
    "    def __init__(self, lr=.01, num_epochs=100):\n",
    "        self.lr = lr\n",
    "        self.num_epochs = num_epochs\n",
    "        self.weights = None\n",
    "        self.bias = None\n",
    "\n",
    "    def fit(self, X, y):\n",
    "        m, n = X.shape # num_data_points X num_features\n",
    "        self.weights = np.zeros(n)\n",
    "        self.bias = 0\n",
    "\n",
    "        for epoch in range(self.num_epochs):\n",
    "            prediction = self.predict(X)\n",
    "            if not epoch % 10:\n",
    "                J = self.mse_cost(prediction, y)  \n",
    "                # mse_cost = (1/m)*np.sum((prediction-y)**2)  \n",
    "                print(f'Epoch={epoch} Cost={J}')\n",
    "                # print(f'Epoch={epoch} Cost={mse_cost}')\n",
    "\n",
    "            dJ_dw = (1/m) * np.dot(prediction - y, X) # 1Xm and mXn\n",
    "            dJ_db = (1/m) * np.sum(prediction - y)\n",
    "\n",
    "            self.weights -= self.lr * dJ_dw\n",
    "            self.bias -= self.lr * dJ_db\n",
    "\n",
    "\n",
    "\n",
    "    def predict(self, X): # y = w.X + b\n",
    "        return [np.dot(self.weights,i)+self.bias for i in X] \n",
    "    \n",
    "    def mse_cost(self, y_hat, y):\n",
    "        cost = 0\n",
    "        for i in range(len(y)):\n",
    "            cost += (y_hat[i] - y[i])**2\n",
    "        return cost/len(y)\n",
    "    \n",
    "    \n",
    "        "
   ]
  },
  {
   "cell_type": "code",
   "execution_count": 3,
   "metadata": {},
   "outputs": [],
   "source": [
    "from sklearn.datasets import load_iris\n",
    "from sklearn.model_selection import train_test_split\n",
    "ds = load_iris()\n",
    "X_train, X_test, y_train, y_test = train_test_split(ds['data'], ds['target'])"
   ]
  },
  {
   "cell_type": "code",
   "execution_count": 4,
   "metadata": {},
   "outputs": [
    {
     "name": "stdout",
     "output_type": "stream",
     "text": [
      "Epoch=0 Cost=1.6160714285714286\n",
      "Epoch=0 Cost=1.6160714285714284\n",
      "Epoch=10 Cost=0.2785693294003234\n",
      "Epoch=10 Cost=0.2785693294003233\n",
      "Epoch=20 Cost=0.20023762031343262\n",
      "Epoch=20 Cost=0.20023762031343262\n",
      "Epoch=30 Cost=0.14946091254000554\n",
      "Epoch=30 Cost=0.14946091254000557\n",
      "Epoch=40 Cost=0.11653298613879648\n",
      "Epoch=40 Cost=0.11653298613879648\n",
      "Epoch=50 Cost=0.09516680339099567\n",
      "Epoch=50 Cost=0.09516680339099566\n",
      "Epoch=60 Cost=0.08129003923454778\n",
      "Epoch=60 Cost=0.08129003923454776\n",
      "Epoch=70 Cost=0.07226490978697064\n",
      "Epoch=70 Cost=0.07226490978697066\n",
      "Epoch=80 Cost=0.06638283002492527\n",
      "Epoch=80 Cost=0.06638283002492527\n",
      "Epoch=90 Cost=0.0625370872045001\n",
      "Epoch=90 Cost=0.06253708720450007\n"
     ]
    }
   ],
   "source": [
    "Lreg = LinearRegression()\n",
    "Lreg.fit(X_train, y_train)"
   ]
  },
  {
   "cell_type": "code",
   "execution_count": 5,
   "metadata": {},
   "outputs": [
    {
     "data": {
      "text/plain": [
       "[1.8038554971999323,\n",
       " 1.554915778808308,\n",
       " 1.5887746855458054,\n",
       " 1.66264713167996,\n",
       " 0.914390023695941,\n",
       " 1.3938525752732547,\n",
       " 1.3361589507010914,\n",
       " 0.1050789904025127,\n",
       " 1.4142514794888246,\n",
       " 0.9019451181817264,\n",
       " 0.038377079895873314,\n",
       " 1.246789351050747,\n",
       " 1.1231372828597346,\n",
       " 0.08777641978483881,\n",
       " 1.6535693839229222,\n",
       " 1.5887746855458054,\n",
       " 0.07180057248085131,\n",
       " 1.842027196879758,\n",
       " 1.3174389081303994,\n",
       " 1.7856464816225142,\n",
       " 0.13980025650383343,\n",
       " 1.780480763783784,\n",
       " 0.06522842907780943,\n",
       " 1.6001391216396157,\n",
       " -0.03204412669913375,\n",
       " 1.3519064475204339,\n",
       " -0.02385849406390536,\n",
       " 1.26391104018783,\n",
       " 1.7697249603425114,\n",
       " 0.8088815986696551,\n",
       " 1.6480123375275935,\n",
       " 1.4856726472929678,\n",
       " 1.1632856564916445,\n",
       " 0.09169869013121068,\n",
       " 0.10171102668469345,\n",
       " -0.060584577954011606,\n",
       " 1.5357357518190977,\n",
       " 1.6553025715917844]"
      ]
     },
     "execution_count": 5,
     "metadata": {},
     "output_type": "execute_result"
    }
   ],
   "source": [
    "pred = Lreg.predict(X_test)\n",
    "pred"
   ]
  },
  {
   "cell_type": "code",
   "execution_count": 6,
   "metadata": {},
   "outputs": [],
   "source": [
    "def mse_cost(y_hat, y):\n",
    "        cost = 0\n",
    "        for i in range(len(y)):\n",
    "            cost += (y_hat[i] - y[i])**2\n",
    "        return cost/len(y)"
   ]
  },
  {
   "cell_type": "code",
   "execution_count": 7,
   "metadata": {},
   "outputs": [
    {
     "data": {
      "text/plain": [
       "0.07363471710912757"
      ]
     },
     "execution_count": 7,
     "metadata": {},
     "output_type": "execute_result"
    }
   ],
   "source": [
    "mse_cost(pred, y_test)"
   ]
  }
 ],
 "metadata": {
  "kernelspec": {
   "display_name": "NewPytorchEnv",
   "language": "python",
   "name": "python3"
  },
  "language_info": {
   "codemirror_mode": {
    "name": "ipython",
    "version": 3
   },
   "file_extension": ".py",
   "mimetype": "text/x-python",
   "name": "python",
   "nbconvert_exporter": "python",
   "pygments_lexer": "ipython3",
   "version": "3.10.12"
  },
  "orig_nbformat": 4
 },
 "nbformat": 4,
 "nbformat_minor": 2
}
