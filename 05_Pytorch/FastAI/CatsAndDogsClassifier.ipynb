{
 "cells": [
  {
   "attachments": {},
   "cell_type": "markdown",
   "metadata": {},
   "source": [
    "Importing necessary modules"
   ]
  },
  {
   "cell_type": "code",
   "execution_count": null,
   "metadata": {},
   "outputs": [],
   "source": [
    "from fastai.vision.all import *"
   ]
  },
  {
   "cell_type": "code",
   "execution_count": null,
   "metadata": {},
   "outputs": [],
   "source": [
    "path = untar_data(URLs.PETS)/'images' \n",
    "path"
   ]
  },
  {
   "attachments": {},
   "cell_type": "markdown",
   "metadata": {},
   "source": [
    "###### We have downloaded 7349 images of cats and dogs from a famous dataset and extracted it. Now to make sure that they are there, we use matplotlib to view them."
   ]
  },
  {
   "cell_type": "code",
   "execution_count": null,
   "metadata": {},
   "outputs": [],
   "source": [
    "import matplotlib.pyplot as plt\n",
    "list_img = get_image_files(path)\n",
    "list_3 = list_img[:3]\n",
    "for img in list_3:\n",
    "    img = plt.imread(img)\n",
    "    plt.imshow(img)\n",
    "    plt.show()"
   ]
  },
  {
   "cell_type": "code",
   "execution_count": null,
   "metadata": {},
   "outputs": [],
   "source": [
    "def is_cat(x):\n",
    "    return x[0].isupper()\n",
    "\n",
    "# The nature of the dataset is that all cat images have their label \n",
    "# beginning with a capital letter. We use this as a leverage to classify\n",
    "# cats in training set"
   ]
  },
  {
   "attachments": {},
   "cell_type": "markdown",
   "metadata": {},
   "source": [
    "###### Now we begin to load the data, and create a model that will fine tune an pre-made model, to give incredible results."
   ]
  },
  {
   "cell_type": "code",
   "execution_count": null,
   "metadata": {},
   "outputs": [],
   "source": [
    "dls = ImageDataLoaders.from_name_func(\n",
    "    path,get_image_files(path), valid_pct = 0.2, seed = 42,\n",
    "    label_func = is_cat, item_tfms = Resize(224)\n",
    ")\n",
    "\n",
    "learn = vision_learner(dls, resnet18, metrics = accuracy)\n",
    "learn.fine_tune(1)\n",
    "learn.show_results()"
   ]
  },
  {
   "attachments": {},
   "cell_type": "markdown",
   "metadata": {},
   "source": [
    "###### Testing the model"
   ]
  },
  {
   "cell_type": "code",
   "execution_count": null,
   "metadata": {},
   "outputs": [],
   "source": [
    "# uploader = SimpleNamespace(data = ['''The location of test image'''])\n",
    "# test_image = PILImage.create(uploader.data[0])\n",
    "# is_cat, _, probability = learn.predict(test_image)\n",
    "# print(\"Cat: \", is_cat, \"\\nProbability: \",probability[1].item())"
   ]
  }
 ],
 "metadata": {
  "kernelspec": {
   "display_name": "base",
   "language": "python",
   "name": "python3"
  },
  "language_info": {
   "codemirror_mode": {
    "name": "ipython",
    "version": 3
   },
   "file_extension": ".py",
   "mimetype": "text/x-python",
   "name": "python",
   "nbconvert_exporter": "python",
   "pygments_lexer": "ipython3",
   "version": "3.9.7"
  },
  "orig_nbformat": 4,
  "vscode": {
   "interpreter": {
    "hash": "950b5653ccfc34417735dd321d006fd482b31f7611416c3d8236dc5b17587d3f"
   }
  }
 },
 "nbformat": 4,
 "nbformat_minor": 2
}
