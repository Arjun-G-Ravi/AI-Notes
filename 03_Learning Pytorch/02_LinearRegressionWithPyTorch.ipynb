{
 "cells": [
  {
   "attachments": {},
   "cell_type": "markdown",
   "metadata": {},
   "source": [
    "Whenever using ML:\n",
    "\n",
    "    0) Import, dataset and dataloaders creation, device definition\n",
    "    1) Design the model (the forward pass), the input size and output size\n",
    "    2) Construct loss and the optimiser\n",
    "    3) Training loop\n",
    "         - Forward pass: Compute prediction [inference]\n",
    "         - Backward pass: Gradients (auto gradient for last one)\n",
    "         - Compute loss for accuracy check\n",
    "         - Update weights\n",
    "    4) Predict output and calculate accuracy (use torch.no_grad())"
   ]
  },
  {
   "attachments": {},
   "cell_type": "markdown",
   "metadata": {},
   "source": [
    "Without PyTorch"
   ]
  },
  {
   "cell_type": "code",
   "execution_count": 1,
   "metadata": {},
   "outputs": [
    {
     "name": "stdout",
     "output_type": "stream",
     "text": [
      "Epoch:1  Loss:30.00000000  weight:1.20000\n",
      "Epoch:2  Loss:4.79999924  weight:1.68000\n",
      "Epoch:3  Loss:0.76800019  weight:1.87200\n",
      "Epoch:4  Loss:0.12288000  weight:1.94880\n",
      "Epoch:5  Loss:0.01966083  weight:1.97952\n",
      "Epoch:6  Loss:0.00314574  weight:1.99181\n",
      "Epoch:7  Loss:0.00050331  weight:1.99672\n",
      "Epoch:8  Loss:0.00008053  weight:1.99869\n",
      "Epoch:9  Loss:0.00001288  weight:1.99948\n",
      "Epoch:10  Loss:0.00000206  weight:1.99979\n",
      "Epoch:11  Loss:0.00000033  weight:1.99992\n",
      "Epoch:12  Loss:0.00000005  weight:1.99997\n",
      "Epoch:13  Loss:0.00000001  weight:1.99999\n",
      "Epoch:14  Loss:0.00000000  weight:1.99999\n",
      "Epoch:15  Loss:0.00000000  weight:2.00000\n",
      "\n",
      "Prediction after training: f(5) = 10.000\n"
     ]
    }
   ],
   "source": [
    "import numpy as np\n",
    "\n",
    "# model: y = w*x [ = 2*x ]\n",
    "\n",
    "# Initialisation\n",
    "x = np.array([1,2,3,4], dtype=np.float32)\n",
    "y = np.array([2,4,6,8], dtype=np.float32)\n",
    "w = 0.0\n",
    "\n",
    "# Forward pass\n",
    "def forw_pass(x,w):\n",
    "    y_hat = w*x\n",
    "    return y_hat\n",
    "\n",
    "# Loss MSE\n",
    "def loss(y, y_hat):\n",
    "    return ((y_hat - y)**2).mean()\n",
    "\n",
    "# Gradient\n",
    "def gradient(x,y,y_hat):\n",
    "    return np.dot(2*x,y_hat-y).mean()\n",
    "\n",
    "alpha = .01\n",
    "num_iteration = 15\n",
    "\n",
    "for epoch in range(num_iteration):\n",
    "    y_hat = forw_pass(x,w)\n",
    "    l = loss(y,y_hat)\n",
    "    dL_dw = gradient(x,y,y_hat)\n",
    "    w = w - alpha * dL_dw\n",
    "    print(f\"Epoch:{epoch+1}  Loss:{l:.8f}  weight:{w:.5f}\")\n",
    "\n",
    "print(f\"\\nPrediction after training: f(5) = {forw_pass(5,w):.3f}\")\n",
    "    "
   ]
  },
  {
   "attachments": {},
   "cell_type": "markdown",
   "metadata": {},
   "source": [
    "Using Autograd of PyTorch"
   ]
  },
  {
   "cell_type": "code",
   "execution_count": 2,
   "metadata": {},
   "outputs": [
    {
     "name": "stdout",
     "output_type": "stream",
     "text": [
      "Prediction before training: f(5) = 0.000\n",
      "Epoch:1  Loss:30.00000000  weight:0.30000\n",
      "Epoch:11  Loss:1.16278565  weight:1.66531\n",
      "Epoch:21  Loss:0.04506890  weight:1.93411\n",
      "Epoch:31  Loss:0.00174685  weight:1.98703\n",
      "Epoch:41  Loss:0.00006770  weight:1.99745\n",
      "Epoch:51  Loss:0.00000262  weight:1.99950\n",
      "Epoch:61  Loss:0.00000010  weight:1.99990\n",
      "Epoch:71  Loss:0.00000000  weight:1.99998\n",
      "Epoch:81  Loss:0.00000000  weight:2.00000\n",
      "Epoch:91  Loss:0.00000000  weight:2.00000\n",
      "\n",
      "Prediction after training: f(5) = 10.000\n"
     ]
    }
   ],
   "source": [
    "import torch\n",
    "\n",
    "# model: y = w*x = 2*x\n",
    "\n",
    "# Initialisation\n",
    "x = torch.tensor([1,2,3,4], dtype=torch.float32)\n",
    "y = torch.tensor([2,4,6,8], dtype=torch.float32)\n",
    "w = torch.tensor(0.0, dtype=torch.float32, requires_grad=True)\n",
    "\n",
    "# Forward pass\n",
    "def forw_pass(x):\n",
    "    return w*x\n",
    "    \n",
    "# Loss MSE\n",
    "def loss(y, y_hat):\n",
    "    return ((y_hat - y)**2).mean()\n",
    "\n",
    "# Gradient calc done by autograd\n",
    "print(f'Prediction before training: f(5) = {forw_pass(5).item():.3f}')\n",
    "alpha = .01\n",
    "num_iteration = 100\n",
    "\n",
    "for epoch in range(num_iteration):\n",
    "    y_hat = forw_pass(x)\n",
    "    \n",
    "    l = loss(y,y_hat)\n",
    "    l.backward()\n",
    "    # print(w.grad)\n",
    "\n",
    "    with torch.no_grad():\n",
    "        w -= alpha * w.grad\n",
    "    w.grad.zero_()\n",
    "    if epoch%10 == 0:\n",
    "        print(f\"Epoch:{epoch+1}  Loss:{l:.8f}  weight:{w:.5f}\")    \n",
    "   \n",
    "\n",
    "print(f\"\\nPrediction after training: f(5) = {forw_pass(5):.3f}\")"
   ]
  },
  {
   "attachments": {},
   "cell_type": "markdown",
   "metadata": {},
   "source": [
    "Using torch.nn module"
   ]
  },
  {
   "cell_type": "code",
   "execution_count": 3,
   "metadata": {},
   "outputs": [
    {
     "name": "stdout",
     "output_type": "stream",
     "text": [
      "Epoch:1  Loss:30.00000000  weight:0.30000\n",
      "Epoch:11  Loss:1.16278565  weight:1.66531\n",
      "Epoch:21  Loss:0.04506890  weight:1.93411\n",
      "Epoch:31  Loss:0.00174685  weight:1.98703\n",
      "Epoch:41  Loss:0.00006770  weight:1.99745\n",
      "Epoch:51  Loss:0.00000262  weight:1.99950\n",
      "Epoch:61  Loss:0.00000010  weight:1.99990\n",
      "Epoch:71  Loss:0.00000000  weight:1.99998\n",
      "Epoch:81  Loss:0.00000000  weight:2.00000\n",
      "Epoch:91  Loss:0.00000000  weight:2.00000\n",
      "\n",
      "Prediction after training: f(5) = 10.000\n"
     ]
    }
   ],
   "source": [
    "import torch\n",
    "import torch.nn as nn\n",
    "# model: y = w*x = 2*x\n",
    "\n",
    "# Initialisation\n",
    "x = torch.tensor([1,2,3,4], dtype=torch.float32)\n",
    "y = torch.tensor([2,4,6,8], dtype=torch.float32)\n",
    "w = torch.tensor(0.0, dtype=torch.float32, requires_grad=True)\n",
    "\n",
    "# Forward pass\n",
    "def forw_pass(x):\n",
    "    return w*x\n",
    "    \n",
    "alpha = .01\n",
    "num_iteration = 100\n",
    "\n",
    "# Loss MSE can be defined by the torch.nn package\n",
    "loss = nn.MSELoss()\n",
    "optimiser = torch.optim.SGD([w], lr = alpha)\n",
    "\n",
    "# Training loop\n",
    "for epoch in range(num_iteration):\n",
    "    y_hat = forw_pass(x)\n",
    "    \n",
    "    l = loss(y,y_hat)\n",
    "    l.backward()\n",
    "    # print(w.grad)\n",
    "\n",
    "    optimiser.step()\n",
    "    optimiser.zero_grad()\n",
    "    \n",
    "    if epoch%10 == 0:\n",
    "        print(f\"Epoch:{epoch+1}  Loss:{l:.8f}  weight:{w:.5f}\")    \n",
    "   \n",
    "\n",
    "print(f\"\\nPrediction after training: f(5) = {forw_pass(5):.3f}\")\n",
    "    "
   ]
  },
  {
   "attachments": {},
   "cell_type": "markdown",
   "metadata": {},
   "source": [
    "Using torch.nn to define model"
   ]
  },
  {
   "cell_type": "code",
   "execution_count": 4,
   "metadata": {},
   "outputs": [
    {
     "name": "stdout",
     "output_type": "stream",
     "text": [
      "Prediction before training: f(5) = -5.3038\n",
      "\n",
      "Epoch:1   loss:73.61764526367188   w:3.744051694869995\n",
      "Epoch:11   loss:0.040669478476047516   w:1.931684136390686\n",
      "Epoch:21   loss:0.008814368396997452   w:1.9248645305633545\n",
      "Epoch:31   loss:0.004794783424586058   w:1.9441072940826416\n",
      "Epoch:41   loss:0.00261065480299294   w:1.9587490558624268\n",
      "Epoch:51   loss:0.001421449356712401   w:1.9695613384246826\n",
      "Epoch:61   loss:0.0007739465800113976   w:1.9775396585464478\n",
      "Epoch:71   loss:0.0004213970387354493   w:1.983426809310913\n",
      "Epoch:81   loss:0.0002294412988703698   w:1.9877707958221436\n",
      "Epoch:91   loss:0.00012492624227888882   w:1.9909762144088745\n",
      "\n",
      "Prediction after training: f(5) = 9.9859\n"
     ]
    }
   ],
   "source": [
    "import numpy as np\n",
    "import torch\n",
    "import torch.nn as nn\n",
    "\n",
    "# Initialisation\n",
    "X = torch.tensor([[1],[2],[3],[4]], dtype=torch.float32)\n",
    "y = torch.tensor([[2],[4],[6],[8]], dtype=torch.float32)\n",
    "X_test = torch.tensor([5], dtype=torch.float32)\n",
    "\n",
    "[m, n_features] = X.shape\n",
    "input_size = n_features\n",
    "outut_size = n_features\n",
    "\n",
    "# Defining model\n",
    "class LinRegression(nn.Module):\n",
    "    def __init__(self,inp_size, out_size):\n",
    "        super(LinRegression,self).__init__()\n",
    "        self.lay1 = nn.Linear(inp_size, out_size)\n",
    "        \n",
    "    def forward(self, X):\n",
    "        return self.lay1(X)\n",
    "\n",
    "model = LinRegression(input_size, outut_size)\n",
    "\n",
    "print(f\"Prediction before training: f(5) = {model(X_test).item():.4f}\\n\")\n",
    "\n",
    "# Defining loss and optimiser\n",
    "loss_category = nn.MSELoss()\n",
    "optimiser = torch.optim.SGD(model.parameters(), lr =0.1)\n",
    "\n",
    "# Training loop\n",
    "\n",
    "n_iter = 100\n",
    "for epoch in range(n_iter):\n",
    "    y_hat = model(X)\n",
    "    loss = loss_category(y_hat, y)\n",
    "    loss.backward()\n",
    "    \n",
    "    optimiser.step()\n",
    "    optimiser.zero_grad()\n",
    "    \n",
    "    if epoch%10 == 0:\n",
    "        [w, b] = model.parameters()\n",
    "        print(f'Epoch:{epoch+1}   loss:{loss}   w:{w[0].item()}')\n",
    "        \n",
    "print(f\"\\nPrediction after training: f(5) = {model(X_test).item():.4f}\")\n",
    "    \n"
   ]
  },
  {
   "attachments": {},
   "cell_type": "markdown",
   "metadata": {},
   "source": [
    "Same thing done over and over "
   ]
  },
  {
   "cell_type": "code",
   "execution_count": 5,
   "metadata": {},
   "outputs": [
    {
     "name": "stdout",
     "output_type": "stream",
     "text": [
      "Correct Ans = 24\n",
      "Prediction before training: f(x) = 4.38\n",
      "\n",
      "Prediction after training: f(x) = 24.00\n"
     ]
    }
   ],
   "source": [
    "# Step 0\n",
    "import torch\n",
    "import torch.nn as nn\n",
    "import numpy as np\n",
    "\n",
    "X = torch.tensor([[1],[2],[3],[4]], dtype=torch.float32)\n",
    "y = torch.tensor([[2],[4],[6],[8]], dtype=torch.float32)\n",
    "X_test = torch.tensor([12], dtype=torch.float32)\n",
    "print(\"Correct Ans = 24\")\n",
    "# Step 1\n",
    "[m, n] = X.shape\n",
    "\n",
    "class LR(nn.Module):\n",
    "    def __init__(self, inp_size, out_size):\n",
    "        super(LR,self).__init__()\n",
    "        self.lay1 = nn.Linear(inp_size,out_size)\n",
    "    def forward(self,x):\n",
    "        return self.lay1(x)\n",
    "model = LR(n,n)\n",
    "print(f'Prediction before training: f(x) = {model(X_test).item():.2f}')\n",
    "\n",
    "# Step 2\n",
    "loss_category = nn.MSELoss()\n",
    "optimiser = torch.optim.SGD(model.parameters(), lr = .1)\n",
    "\n",
    "# Step 3\n",
    "n_iter = 10000\n",
    "for epoch in range(n_iter):\n",
    "    y_hat = model(X)\n",
    "    loss = loss_category(y, y_hat)\n",
    "    loss.backward()\n",
    "    optimiser.step()\n",
    "    optimiser.zero_grad()\n",
    "    \n",
    "print(f'\\nPrediction after training: f(x) = {model(X_test).item():.2f}')\n"
   ]
  },
  {
   "cell_type": "code",
   "execution_count": 6,
   "metadata": {},
   "outputs": [
    {
     "name": "stdout",
     "output_type": "stream",
     "text": [
      "Before training f(X_train)= 2.4142417907714844\n",
      "After training f(X_train)= 50.0\n"
     ]
    }
   ],
   "source": [
    "# Step 0\n",
    "import numpy as np\n",
    "import torch\n",
    "import torch.nn as nn\n",
    "X = torch.tensor([[1],[2],[3],[4]], dtype=torch.float32)\n",
    "y = torch.tensor([[10],[20],[30],[40]], dtype=torch.float32)\n",
    "X_train = torch.tensor([5], dtype=torch.float32)\n",
    "\n",
    "# Step 1\n",
    "m, n = X.shape\n",
    "\n",
    "class LinReg(nn.Module):\n",
    "    def __init__(self, inp_size, out_size):\n",
    "        super(LinReg, self).__init__()\n",
    "        self.lay1 = nn.Linear(inp_size, out_size)\n",
    "    \n",
    "    def forward(self, inp):\n",
    "        out = self.lay1(inp)\n",
    "        return out\n",
    "model = LinReg(n,n)\n",
    "\n",
    "# Step 2\n",
    "lossCat = nn.MSELoss()\n",
    "optimiser = torch.optim.SGD(model.parameters(), lr=.1)\n",
    "print(f\"Before training f(X_train)= {model(X_train).item()}\")\n",
    "\n",
    "# Step 3\n",
    "n_iter = 1000\n",
    "\n",
    "for epoch in range(n_iter):\n",
    "    y_hat = model(X)\n",
    "    loss = loss_category(y, y_hat)\n",
    "    loss.backward()\n",
    "    optimiser.step()\n",
    "    optimiser.zero_grad()\n",
    "\n",
    "print(f\"After training f(X_train)= {model(X_train).item()}\")"
   ]
  },
  {
   "cell_type": "code",
   "execution_count": 7,
   "metadata": {},
   "outputs": [
    {
     "name": "stdout",
     "output_type": "stream",
     "text": [
      "Epoch 0:  Loss=59.817222595214844  w=5.0503010749816895\n",
      "Epoch 100:  Loss=6.65372965613642e-08  w=2.9998559951782227\n",
      "Epoch 200:  Loss=2.7569058147491887e-12  w=2.9999990463256836\n",
      "Epoch 300:  Loss=4.831690603168681e-13  w=2.999999761581421\n",
      "Epoch 400:  Loss=4.831690603168681e-13  w=2.999999761581421\n",
      "Epoch 500:  Loss=4.831690603168681e-13  w=2.999999761581421\n",
      "Epoch 600:  Loss=4.831690603168681e-13  w=2.999999761581421\n",
      "Epoch 700:  Loss=4.831690603168681e-13  w=2.999999761581421\n",
      "Epoch 800:  Loss=4.831690603168681e-13  w=2.999999761581421\n",
      "Epoch 900:  Loss=4.831690603168681e-13  w=2.999999761581421\n",
      "tensor([[ 24.0000],\n",
      "        [  9.0000],\n",
      "        [ 12.0000],\n",
      "        [300.0000]], grad_fn=<AddmmBackward0>)\n"
     ]
    }
   ],
   "source": [
    "# Step 0\n",
    "import torch\n",
    "import torch.nn as nn\n",
    "X = torch.tensor([[1],[4]], dtype = torch.float32)\n",
    "y = torch.tensor([[3],[12]], dtype = torch.float32)\n",
    "X_test = torch.tensor([[8],[3],[4],[100]], dtype = torch.float32)\n",
    "m, n = X.shape\n",
    "\n",
    "# Step 1\n",
    "class Mod1(nn.Module):\n",
    "    def __init__(self, inp_size, out_size):\n",
    "        super(Mod1,self).__init__()\n",
    "        self.lay1 = nn.Linear(inp_size, out_size)\n",
    "    def forward(self, inp):\n",
    "        return self.lay1(inp)\n",
    "model = Mod1(n,n)\n",
    "\n",
    "# step 2\n",
    "lossCat = nn.MSELoss()\n",
    "optimiser = torch.optim.SGD(model.parameters(), lr =.1)\n",
    "\n",
    "# Step 3\n",
    "n_iter = 1000\n",
    "for epoch in range(n_iter):\n",
    "    y_hat = model(X)\n",
    "    loss = lossCat(y_hat, y)\n",
    "    loss.backward()\n",
    "    optimiser.step()\n",
    "    optimiser.zero_grad()\n",
    "    if epoch%100 == 0:\n",
    "        w,b = model.parameters()\n",
    "        # print(w)\n",
    "        print(f\"Epoch {epoch}:  Loss={loss}  w={w.item()}\")\n",
    "\n",
    "print(model(X_test))"
   ]
  }
 ],
 "metadata": {
  "kernelspec": {
   "display_name": "Python 3",
   "language": "python",
   "name": "python3"
  },
  "language_info": {
   "codemirror_mode": {
    "name": "ipython",
    "version": 3
   },
   "file_extension": ".py",
   "mimetype": "text/x-python",
   "name": "python",
   "nbconvert_exporter": "python",
   "pygments_lexer": "ipython3",
   "version": "3.10.6"
  },
  "orig_nbformat": 4
 },
 "nbformat": 4,
 "nbformat_minor": 2
}
